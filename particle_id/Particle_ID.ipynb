{
 "cells": [
  {
   "cell_type": "markdown",
   "metadata": {},
   "source": [
    "The following dataset is from a GEANT based simulation of electron-proton inelastic scattering measured by a particle detector system. We will be using Decision Trees and Random Forests to classify particles based on feature data measured by the detector.\n",
    "\n",
    "The ultamite goal is to take data measured by the detector (and new features that can be extrapolated from the given data) and train the algorithms on that data in order to make future predictions. The features we will have are p (momentum) in units of GeV/c, Theta (angle) in units of radians, Beta (angle) in units of radians, nphe (number of photo electrons), ein (inner energy) in units of GeV, and eout (outer energy) in units of GeV."
   ]
  },
  {
   "cell_type": "code",
   "execution_count": 1,
   "metadata": {},
   "outputs": [],
   "source": [
    "import numpy as np\n",
    "import pandas as pd\n",
    "import matplotlib.pyplot as plt\n",
    "from sklearn.metrics import accuracy_score, confusion_matrix, classification_report\n",
    "from sklearn.tree import DecisionTreeClassifier\n",
    "from sklearn.ensemble import RandomForestClassifier"
   ]
  },
  {
   "cell_type": "code",
   "execution_count": 2,
   "metadata": {},
   "outputs": [
    {
     "data": {
      "text/html": [
       "<div>\n",
       "<style scoped>\n",
       "    .dataframe tbody tr th:only-of-type {\n",
       "        vertical-align: middle;\n",
       "    }\n",
       "\n",
       "    .dataframe tbody tr th {\n",
       "        vertical-align: top;\n",
       "    }\n",
       "\n",
       "    .dataframe thead th {\n",
       "        text-align: right;\n",
       "    }\n",
       "</style>\n",
       "<table border=\"1\" class=\"dataframe\">\n",
       "  <thead>\n",
       "    <tr style=\"text-align: right;\">\n",
       "      <th></th>\n",
       "      <th>id</th>\n",
       "      <th>p</th>\n",
       "      <th>theta</th>\n",
       "      <th>beta</th>\n",
       "      <th>nphe</th>\n",
       "      <th>ein</th>\n",
       "      <th>eout</th>\n",
       "    </tr>\n",
       "  </thead>\n",
       "  <tbody>\n",
       "    <tr>\n",
       "      <th>0</th>\n",
       "      <td>211</td>\n",
       "      <td>0.780041</td>\n",
       "      <td>1.081480</td>\n",
       "      <td>0.989962</td>\n",
       "      <td>0</td>\n",
       "      <td>0.000000</td>\n",
       "      <td>0.000000</td>\n",
       "    </tr>\n",
       "    <tr>\n",
       "      <th>1</th>\n",
       "      <td>211</td>\n",
       "      <td>0.260929</td>\n",
       "      <td>0.778892</td>\n",
       "      <td>0.902450</td>\n",
       "      <td>0</td>\n",
       "      <td>0.000000</td>\n",
       "      <td>0.000000</td>\n",
       "    </tr>\n",
       "    <tr>\n",
       "      <th>2</th>\n",
       "      <td>2212</td>\n",
       "      <td>0.773022</td>\n",
       "      <td>0.185953</td>\n",
       "      <td>0.642428</td>\n",
       "      <td>4</td>\n",
       "      <td>0.101900</td>\n",
       "      <td>0.000000</td>\n",
       "    </tr>\n",
       "    <tr>\n",
       "      <th>3</th>\n",
       "      <td>211</td>\n",
       "      <td>0.476997</td>\n",
       "      <td>0.445561</td>\n",
       "      <td>0.951471</td>\n",
       "      <td>0</td>\n",
       "      <td>0.000000</td>\n",
       "      <td>0.000000</td>\n",
       "    </tr>\n",
       "    <tr>\n",
       "      <th>4</th>\n",
       "      <td>2212</td>\n",
       "      <td>2.123290</td>\n",
       "      <td>0.337332</td>\n",
       "      <td>0.908652</td>\n",
       "      <td>0</td>\n",
       "      <td>0.034379</td>\n",
       "      <td>0.049256</td>\n",
       "    </tr>\n",
       "  </tbody>\n",
       "</table>\n",
       "</div>"
      ],
      "text/plain": [
       "     id         p     theta      beta  nphe       ein      eout\n",
       "0   211  0.780041  1.081480  0.989962     0  0.000000  0.000000\n",
       "1   211  0.260929  0.778892  0.902450     0  0.000000  0.000000\n",
       "2  2212  0.773022  0.185953  0.642428     4  0.101900  0.000000\n",
       "3   211  0.476997  0.445561  0.951471     0  0.000000  0.000000\n",
       "4  2212  2.123290  0.337332  0.908652     0  0.034379  0.049256"
      ]
     },
     "execution_count": 2,
     "metadata": {},
     "output_type": "execute_result"
    }
   ],
   "source": [
    "df = pd.read_csv(\"pid-5M.csv\")\n",
    "df.head()"
   ]
  },
  {
   "cell_type": "markdown",
   "metadata": {},
   "source": [
    "We can add another column with each particle's de Broglie wavelength. By taking hc/pc, we can get the de Broglie wavelength in nm. To make the numbers a little more like the numbers we have, we can then multiply each de Broglie wavelength by 1,000,000 in order for the lengths to be in femptometers (fm).\n",
    "\n",
    "Note that p (momentum) already is in units of GeV/c. So multiplying p by c just gives us a number in units of GeV."
   ]
  },
  {
   "cell_type": "code",
   "execution_count": 3,
   "metadata": {},
   "outputs": [
    {
     "data": {
      "text/html": [
       "<div>\n",
       "<style scoped>\n",
       "    .dataframe tbody tr th:only-of-type {\n",
       "        vertical-align: middle;\n",
       "    }\n",
       "\n",
       "    .dataframe tbody tr th {\n",
       "        vertical-align: top;\n",
       "    }\n",
       "\n",
       "    .dataframe thead th {\n",
       "        text-align: right;\n",
       "    }\n",
       "</style>\n",
       "<table border=\"1\" class=\"dataframe\">\n",
       "  <thead>\n",
       "    <tr style=\"text-align: right;\">\n",
       "      <th></th>\n",
       "      <th>id</th>\n",
       "      <th>p</th>\n",
       "      <th>theta</th>\n",
       "      <th>beta</th>\n",
       "      <th>nphe</th>\n",
       "      <th>ein</th>\n",
       "      <th>eout</th>\n",
       "      <th>de_Broglie</th>\n",
       "    </tr>\n",
       "  </thead>\n",
       "  <tbody>\n",
       "    <tr>\n",
       "      <th>0</th>\n",
       "      <td>211</td>\n",
       "      <td>0.780041</td>\n",
       "      <td>1.081480</td>\n",
       "      <td>0.989962</td>\n",
       "      <td>0</td>\n",
       "      <td>0.000000</td>\n",
       "      <td>0.000000</td>\n",
       "      <td></td>\n",
       "    </tr>\n",
       "    <tr>\n",
       "      <th>1</th>\n",
       "      <td>211</td>\n",
       "      <td>0.260929</td>\n",
       "      <td>0.778892</td>\n",
       "      <td>0.902450</td>\n",
       "      <td>0</td>\n",
       "      <td>0.000000</td>\n",
       "      <td>0.000000</td>\n",
       "      <td></td>\n",
       "    </tr>\n",
       "    <tr>\n",
       "      <th>2</th>\n",
       "      <td>2212</td>\n",
       "      <td>0.773022</td>\n",
       "      <td>0.185953</td>\n",
       "      <td>0.642428</td>\n",
       "      <td>4</td>\n",
       "      <td>0.101900</td>\n",
       "      <td>0.000000</td>\n",
       "      <td></td>\n",
       "    </tr>\n",
       "    <tr>\n",
       "      <th>3</th>\n",
       "      <td>211</td>\n",
       "      <td>0.476997</td>\n",
       "      <td>0.445561</td>\n",
       "      <td>0.951471</td>\n",
       "      <td>0</td>\n",
       "      <td>0.000000</td>\n",
       "      <td>0.000000</td>\n",
       "      <td></td>\n",
       "    </tr>\n",
       "    <tr>\n",
       "      <th>4</th>\n",
       "      <td>2212</td>\n",
       "      <td>2.123290</td>\n",
       "      <td>0.337332</td>\n",
       "      <td>0.908652</td>\n",
       "      <td>0</td>\n",
       "      <td>0.034379</td>\n",
       "      <td>0.049256</td>\n",
       "      <td></td>\n",
       "    </tr>\n",
       "  </tbody>\n",
       "</table>\n",
       "</div>"
      ],
      "text/plain": [
       "     id         p     theta      beta  nphe       ein      eout de_Broglie\n",
       "0   211  0.780041  1.081480  0.989962     0  0.000000  0.000000           \n",
       "1   211  0.260929  0.778892  0.902450     0  0.000000  0.000000           \n",
       "2  2212  0.773022  0.185953  0.642428     4  0.101900  0.000000           \n",
       "3   211  0.476997  0.445561  0.951471     0  0.000000  0.000000           \n",
       "4  2212  2.123290  0.337332  0.908652     0  0.034379  0.049256           "
      ]
     },
     "execution_count": 3,
     "metadata": {},
     "output_type": "execute_result"
    }
   ],
   "source": [
    "df[\"de_Broglie\"] = \"\"\n",
    "df.head()"
   ]
  },
  {
   "cell_type": "code",
   "execution_count": 4,
   "metadata": {},
   "outputs": [],
   "source": [
    "h_c = .00000123984 #hc planck's constant, units GeV*nm\n",
    "\n",
    "def lamda(p):\n",
    "    return h_c/p"
   ]
  },
  {
   "cell_type": "code",
   "execution_count": 5,
   "metadata": {},
   "outputs": [],
   "source": [
    "wavelengths = []\n",
    "for i in range(df[\"id\"].count()):\n",
    "    x = df[\"p\"][i]\n",
    "    y = lamda(x)\n",
    "    wavelengths.append(y)"
   ]
  },
  {
   "cell_type": "code",
   "execution_count": 6,
   "metadata": {},
   "outputs": [],
   "source": [
    "new_wavelengths = []  \n",
    "for i in range(len(wavelengths)):   #Putting wavelengths in units of fm\n",
    "    x = wavelengths[i]\n",
    "    new_wavelengths.append(x*1000000)"
   ]
  },
  {
   "cell_type": "code",
   "execution_count": 7,
   "metadata": {},
   "outputs": [
    {
     "data": {
      "text/html": [
       "<div>\n",
       "<style scoped>\n",
       "    .dataframe tbody tr th:only-of-type {\n",
       "        vertical-align: middle;\n",
       "    }\n",
       "\n",
       "    .dataframe tbody tr th {\n",
       "        vertical-align: top;\n",
       "    }\n",
       "\n",
       "    .dataframe thead th {\n",
       "        text-align: right;\n",
       "    }\n",
       "</style>\n",
       "<table border=\"1\" class=\"dataframe\">\n",
       "  <thead>\n",
       "    <tr style=\"text-align: right;\">\n",
       "      <th></th>\n",
       "      <th>id</th>\n",
       "      <th>p</th>\n",
       "      <th>theta</th>\n",
       "      <th>beta</th>\n",
       "      <th>nphe</th>\n",
       "      <th>ein</th>\n",
       "      <th>eout</th>\n",
       "      <th>de_Broglie</th>\n",
       "    </tr>\n",
       "  </thead>\n",
       "  <tbody>\n",
       "    <tr>\n",
       "      <th>0</th>\n",
       "      <td>211</td>\n",
       "      <td>0.780041</td>\n",
       "      <td>1.081480</td>\n",
       "      <td>0.989962</td>\n",
       "      <td>0</td>\n",
       "      <td>0.000000</td>\n",
       "      <td>0.000000</td>\n",
       "      <td>1.589455</td>\n",
       "    </tr>\n",
       "    <tr>\n",
       "      <th>1</th>\n",
       "      <td>211</td>\n",
       "      <td>0.260929</td>\n",
       "      <td>0.778892</td>\n",
       "      <td>0.902450</td>\n",
       "      <td>0</td>\n",
       "      <td>0.000000</td>\n",
       "      <td>0.000000</td>\n",
       "      <td>4.751637</td>\n",
       "    </tr>\n",
       "    <tr>\n",
       "      <th>2</th>\n",
       "      <td>2212</td>\n",
       "      <td>0.773022</td>\n",
       "      <td>0.185953</td>\n",
       "      <td>0.642428</td>\n",
       "      <td>4</td>\n",
       "      <td>0.101900</td>\n",
       "      <td>0.000000</td>\n",
       "      <td>1.603887</td>\n",
       "    </tr>\n",
       "    <tr>\n",
       "      <th>3</th>\n",
       "      <td>211</td>\n",
       "      <td>0.476997</td>\n",
       "      <td>0.445561</td>\n",
       "      <td>0.951471</td>\n",
       "      <td>0</td>\n",
       "      <td>0.000000</td>\n",
       "      <td>0.000000</td>\n",
       "      <td>2.599262</td>\n",
       "    </tr>\n",
       "    <tr>\n",
       "      <th>4</th>\n",
       "      <td>2212</td>\n",
       "      <td>2.123290</td>\n",
       "      <td>0.337332</td>\n",
       "      <td>0.908652</td>\n",
       "      <td>0</td>\n",
       "      <td>0.034379</td>\n",
       "      <td>0.049256</td>\n",
       "      <td>0.583924</td>\n",
       "    </tr>\n",
       "  </tbody>\n",
       "</table>\n",
       "</div>"
      ],
      "text/plain": [
       "     id         p     theta      beta  nphe       ein      eout  de_Broglie\n",
       "0   211  0.780041  1.081480  0.989962     0  0.000000  0.000000    1.589455\n",
       "1   211  0.260929  0.778892  0.902450     0  0.000000  0.000000    4.751637\n",
       "2  2212  0.773022  0.185953  0.642428     4  0.101900  0.000000    1.603887\n",
       "3   211  0.476997  0.445561  0.951471     0  0.000000  0.000000    2.599262\n",
       "4  2212  2.123290  0.337332  0.908652     0  0.034379  0.049256    0.583924"
      ]
     },
     "execution_count": 7,
     "metadata": {},
     "output_type": "execute_result"
    }
   ],
   "source": [
    "df[\"de_Broglie\"] = new_wavelengths\n",
    "df.head()"
   ]
  },
  {
   "cell_type": "code",
   "execution_count": 8,
   "metadata": {},
   "outputs": [
    {
     "data": {
      "text/html": [
       "<div>\n",
       "<style scoped>\n",
       "    .dataframe tbody tr th:only-of-type {\n",
       "        vertical-align: middle;\n",
       "    }\n",
       "\n",
       "    .dataframe tbody tr th {\n",
       "        vertical-align: top;\n",
       "    }\n",
       "\n",
       "    .dataframe thead th {\n",
       "        text-align: right;\n",
       "    }\n",
       "</style>\n",
       "<table border=\"1\" class=\"dataframe\">\n",
       "  <thead>\n",
       "    <tr style=\"text-align: right;\">\n",
       "      <th></th>\n",
       "      <th>id</th>\n",
       "      <th>p</th>\n",
       "      <th>theta</th>\n",
       "      <th>beta</th>\n",
       "      <th>nphe</th>\n",
       "      <th>ein</th>\n",
       "      <th>eout</th>\n",
       "      <th>de_Broglie</th>\n",
       "    </tr>\n",
       "  </thead>\n",
       "  <tbody>\n",
       "    <tr>\n",
       "      <th>count</th>\n",
       "      <td>5.000000e+06</td>\n",
       "      <td>5.000000e+06</td>\n",
       "      <td>5.000000e+06</td>\n",
       "      <td>5.000000e+06</td>\n",
       "      <td>5.000000e+06</td>\n",
       "      <td>5.000000e+06</td>\n",
       "      <td>5.000000e+06</td>\n",
       "      <td>5.000000e+06</td>\n",
       "    </tr>\n",
       "    <tr>\n",
       "      <th>mean</th>\n",
       "      <td>9.941839e+02</td>\n",
       "      <td>1.230053e+00</td>\n",
       "      <td>4.889321e-01</td>\n",
       "      <td>8.995796e-01</td>\n",
       "      <td>3.575243e+00</td>\n",
       "      <td>5.635883e-02</td>\n",
       "      <td>7.033195e-02</td>\n",
       "      <td>1.514775e+00</td>\n",
       "    </tr>\n",
       "    <tr>\n",
       "      <th>std</th>\n",
       "      <td>9.724034e+02</td>\n",
       "      <td>7.414895e-01</td>\n",
       "      <td>2.942161e-01</td>\n",
       "      <td>1.132321e-01</td>\n",
       "      <td>1.779236e+01</td>\n",
       "      <td>7.882675e-02</td>\n",
       "      <td>1.020604e-01</td>\n",
       "      <td>1.088758e+00</td>\n",
       "    </tr>\n",
       "    <tr>\n",
       "      <th>min</th>\n",
       "      <td>-1.100000e+01</td>\n",
       "      <td>2.101170e-01</td>\n",
       "      <td>9.222140e-02</td>\n",
       "      <td>5.500010e-01</td>\n",
       "      <td>0.000000e+00</td>\n",
       "      <td>0.000000e+00</td>\n",
       "      <td>0.000000e+00</td>\n",
       "      <td>2.345095e-01</td>\n",
       "    </tr>\n",
       "    <tr>\n",
       "      <th>25%</th>\n",
       "      <td>2.110000e+02</td>\n",
       "      <td>6.657510e-01</td>\n",
       "      <td>2.817420e-01</td>\n",
       "      <td>8.378760e-01</td>\n",
       "      <td>0.000000e+00</td>\n",
       "      <td>0.000000e+00</td>\n",
       "      <td>0.000000e+00</td>\n",
       "      <td>7.515776e-01</td>\n",
       "    </tr>\n",
       "    <tr>\n",
       "      <th>50%</th>\n",
       "      <td>2.110000e+02</td>\n",
       "      <td>1.066150e+00</td>\n",
       "      <td>4.048670e-01</td>\n",
       "      <td>9.461940e-01</td>\n",
       "      <td>0.000000e+00</td>\n",
       "      <td>3.442440e-02</td>\n",
       "      <td>4.417490e-02</td>\n",
       "      <td>1.162913e+00</td>\n",
       "    </tr>\n",
       "    <tr>\n",
       "      <th>75%</th>\n",
       "      <td>2.212000e+03</td>\n",
       "      <td>1.649650e+00</td>\n",
       "      <td>6.117800e-01</td>\n",
       "      <td>9.855910e-01</td>\n",
       "      <td>0.000000e+00</td>\n",
       "      <td>6.834520e-02</td>\n",
       "      <td>9.365990e-02</td>\n",
       "      <td>1.862318e+00</td>\n",
       "    </tr>\n",
       "    <tr>\n",
       "      <th>max</th>\n",
       "      <td>2.212000e+03</td>\n",
       "      <td>5.286950e+00</td>\n",
       "      <td>2.219270e+00</td>\n",
       "      <td>1.499590e+00</td>\n",
       "      <td>3.490000e+02</td>\n",
       "      <td>8.993820e-01</td>\n",
       "      <td>1.097410e+00</td>\n",
       "      <td>5.900712e+00</td>\n",
       "    </tr>\n",
       "  </tbody>\n",
       "</table>\n",
       "</div>"
      ],
      "text/plain": [
       "                 id             p         theta          beta          nphe  \\\n",
       "count  5.000000e+06  5.000000e+06  5.000000e+06  5.000000e+06  5.000000e+06   \n",
       "mean   9.941839e+02  1.230053e+00  4.889321e-01  8.995796e-01  3.575243e+00   \n",
       "std    9.724034e+02  7.414895e-01  2.942161e-01  1.132321e-01  1.779236e+01   \n",
       "min   -1.100000e+01  2.101170e-01  9.222140e-02  5.500010e-01  0.000000e+00   \n",
       "25%    2.110000e+02  6.657510e-01  2.817420e-01  8.378760e-01  0.000000e+00   \n",
       "50%    2.110000e+02  1.066150e+00  4.048670e-01  9.461940e-01  0.000000e+00   \n",
       "75%    2.212000e+03  1.649650e+00  6.117800e-01  9.855910e-01  0.000000e+00   \n",
       "max    2.212000e+03  5.286950e+00  2.219270e+00  1.499590e+00  3.490000e+02   \n",
       "\n",
       "                ein          eout    de_Broglie  \n",
       "count  5.000000e+06  5.000000e+06  5.000000e+06  \n",
       "mean   5.635883e-02  7.033195e-02  1.514775e+00  \n",
       "std    7.882675e-02  1.020604e-01  1.088758e+00  \n",
       "min    0.000000e+00  0.000000e+00  2.345095e-01  \n",
       "25%    0.000000e+00  0.000000e+00  7.515776e-01  \n",
       "50%    3.442440e-02  4.417490e-02  1.162913e+00  \n",
       "75%    6.834520e-02  9.365990e-02  1.862318e+00  \n",
       "max    8.993820e-01  1.097410e+00  5.900712e+00  "
      ]
     },
     "execution_count": 8,
     "metadata": {},
     "output_type": "execute_result"
    }
   ],
   "source": [
    "df.describe()"
   ]
  },
  {
   "cell_type": "markdown",
   "metadata": {},
   "source": [
    "ID's: Positron (-11), Pion (211), Kaon (321), Proton (2212)\n",
    "\n",
    "Let's look at some distributions and a correlation matrix."
   ]
  },
  {
   "cell_type": "code",
   "execution_count": 9,
   "metadata": {},
   "outputs": [
    {
     "data": {
      "text/plain": [
       "Text(0.5,1,'Momentum Distribution for all Particles')"
      ]
     },
     "execution_count": 9,
     "metadata": {},
     "output_type": "execute_result"
    },
    {
     "data": {
      "image/png": "[encoded data removed]",
      "text/plain": [
       "<Figure size 432x288 with 1 Axes>"
      ]
     },
     "metadata": {},
     "output_type": "display_data"
    }
   ],
   "source": [
    "#Momentum Histogram\n",
    "momentum = np.array(df[\"p\"])\n",
    "plt.hist(momentum, range = (momentum.min(), momentum.max()))\n",
    "plt.xlabel(\"Momentum (GeV/c)\")\n",
    "plt.ylabel(\"Frequency\")\n",
    "plt.title(\"Momentum Distribution for all Particles\")"
   ]
  },
  {
   "cell_type": "code",
   "execution_count": 10,
   "metadata": {},
   "outputs": [
    {
     "data": {
      "text/plain": [
       "Text(0.5,1,'Theta Distribution for all Particles')"
      ]
     },
     "execution_count": 10,
     "metadata": {},
     "output_type": "execute_result"
    },
    {
     "data": {
      "image/png": "[encoded data removed]",
      "text/plain": [
       "<Figure size 432x288 with 1 Axes>"
      ]
     },
     "metadata": {},
     "output_type": "display_data"
    }
   ],
   "source": [
    "#Theta Histogram\n",
    "theta = np.array(df[\"theta\"])\n",
    "plt.hist(theta, range = (theta.min(), theta.max()))\n",
    "plt.xlabel(\"Theta (Rads)\")\n",
    "plt.ylabel(\"Frequency\")\n",
    "plt.title(\"Theta Distribution for all Particles\")"
   ]
  },
  {
   "cell_type": "code",
   "execution_count": 11,
   "metadata": {},
   "outputs": [
    {
     "data": {
      "text/plain": [
       "Text(0.5,1,'Beta Distribution for all Particles')"
      ]
     },
     "execution_count": 11,
     "metadata": {},
     "output_type": "execute_result"
    },
    {
     "data": {
      "image/png": "[encoded data removed]",
      "text/plain": [
       "<Figure size 432x288 with 1 Axes>"
      ]
     },
     "metadata": {},
     "output_type": "display_data"
    }
   ],
   "source": [
    "#Beta Histogram\n",
    "beta = np.array(df[\"beta\"])\n",
    "plt.hist(beta, range = (beta.min(), beta.max()))\n",
    "plt.xlabel(\"Beta (Rads)\")\n",
    "plt.ylabel(\"Frequency\")\n",
    "plt.title(\"Beta Distribution for all Particles\")"
   ]
  },
  {
   "cell_type": "code",
   "execution_count": 12,
   "metadata": {},
   "outputs": [
    {
     "data": {
      "text/plain": [
       "Text(0.5,1,'de Broglie Wavelength Distribution for all Particles')"
      ]
     },
     "execution_count": 12,
     "metadata": {},
     "output_type": "execute_result"
    },
    {
     "data": {
      "image/png": "[encoded data removed]",
      "text/plain": [
       "<Figure size 432x288 with 1 Axes>"
      ]
     },
     "metadata": {},
     "output_type": "display_data"
    }
   ],
   "source": [
    "#de Broglie Histogram\n",
    "de_broglie = np.array(df[\"de_Broglie\"])\n",
    "plt.hist(de_broglie, range = (de_broglie.min(), de_broglie.max()))\n",
    "plt.xlabel(\"de Broglie Wavelength (fm)\")\n",
    "plt.ylabel(\"Frequency\")\n",
    "plt.title(\"de Broglie Wavelength Distribution for all Particles\")"
   ]
  },
  {
   "cell_type": "code",
   "execution_count": 13,
   "metadata": {},
   "outputs": [
    {
     "data": {
      "image/png": "[encoded data removed]",
      "text/plain": [
       "<Figure size 432x288 with 2 Axes>"
      ]
     },
     "metadata": {},
     "output_type": "display_data"
    }
   ],
   "source": [
    "#Heatmap of features\n",
    "\n",
    "import seaborn as sns\n",
    "sns.heatmap(df[[\"id\", \"p\", \"theta\", \"beta\", \"nphe\", \"ein\", \"eout\", \"de_Broglie\"]].corr())\n",
    "sns.set(style = 'dark')"
   ]
  },
  {
   "cell_type": "markdown",
   "metadata": {},
   "source": [
    "Let's start training and testing with the decision trees and random forests using the default settings."
   ]
  },
  {
   "cell_type": "code",
   "execution_count": 14,
   "metadata": {},
   "outputs": [],
   "source": [
    "X = np.array(df.drop(\"id\", axis = 1))\n",
    "y = np.array(df[\"id\"])\n",
    "\n",
    "from sklearn.model_selection import train_test_split\n",
    "\n",
    "X_train, X_test, y_train, y_true = train_test_split(X, y, test_size = 0.2)"
   ]
  },
  {
   "cell_type": "code",
   "execution_count": 15,
   "metadata": {},
   "outputs": [],
   "source": [
    "dct = DecisionTreeClassifier()\n",
    "rfc = RandomForestClassifier()"
   ]
  },
  {
   "cell_type": "code",
   "execution_count": 16,
   "metadata": {},
   "outputs": [
    {
     "data": {
      "text/plain": [
       "DecisionTreeClassifier(class_weight=None, criterion='gini', max_depth=None,\n",
       "            max_features=None, max_leaf_nodes=None,\n",
       "            min_impurity_decrease=0.0, min_impurity_split=None,\n",
       "            min_samples_leaf=1, min_samples_split=2,\n",
       "            min_weight_fraction_leaf=0.0, presort=False, random_state=None,\n",
       "            splitter='best')"
      ]
     },
     "execution_count": 16,
     "metadata": {},
     "output_type": "execute_result"
    }
   ],
   "source": [
    "dct.fit(X_train, y_train) #Fitting with decision tree"
   ]
  },
  {
   "cell_type": "code",
   "execution_count": 17,
   "metadata": {},
   "outputs": [],
   "source": [
    "dctpredict = dct.predict(X_test)"
   ]
  },
  {
   "cell_type": "code",
   "execution_count": 18,
   "metadata": {},
   "outputs": [
    {
     "data": {
      "text/plain": [
       "0.958451"
      ]
     },
     "execution_count": 18,
     "metadata": {},
     "output_type": "execute_result"
    }
   ],
   "source": [
    "accuracy_score(y_true, dctpredict)"
   ]
  },
  {
   "cell_type": "code",
   "execution_count": 19,
   "metadata": {},
   "outputs": [
    {
     "name": "stdout",
     "output_type": "stream",
     "text": [
      "              precision    recall  f1-score   support\n",
      "\n",
      "         -11       0.62      0.64      0.63      2907\n",
      "         211       0.97      0.97      0.97    561233\n",
      "         321       0.67      0.68      0.67     46702\n",
      "        2212       0.98      0.98      0.98    389158\n",
      "\n",
      "   micro avg       0.96      0.96      0.96   1000000\n",
      "   macro avg       0.81      0.82      0.81   1000000\n",
      "weighted avg       0.96      0.96      0.96   1000000\n",
      "\n"
     ]
    }
   ],
   "source": [
    "print(classification_report(y_true, dctpredict))"
   ]
  },
  {
   "cell_type": "code",
   "execution_count": 20,
   "metadata": {},
   "outputs": [
    {
     "name": "stderr",
     "output_type": "stream",
     "text": [
      "/Library/Frameworks/Python.framework/Versions/3.6/lib/python3.6/site-packages/sklearn/ensemble/forest.py:248: FutureWarning: The default value of n_estimators will change from 10 in version 0.20 to 100 in 0.22.\n",
      "  \"10 in version 0.20 to 100 in 0.22.\", FutureWarning)\n"
     ]
    },
    {
     "data": {
      "text/plain": [
       "RandomForestClassifier(bootstrap=True, class_weight=None, criterion='gini',\n",
       "            max_depth=None, max_features='auto', max_leaf_nodes=None,\n",
       "            min_impurity_decrease=0.0, min_impurity_split=None,\n",
       "            min_samples_leaf=1, min_samples_split=2,\n",
       "            min_weight_fraction_leaf=0.0, n_estimators=10, n_jobs=None,\n",
       "            oob_score=False, random_state=None, verbose=0,\n",
       "            warm_start=False)"
      ]
     },
     "execution_count": 20,
     "metadata": {},
     "output_type": "execute_result"
    }
   ],
   "source": [
    "rfc.fit(X_train, y_train) #Fitting with random forest"
   ]
  },
  {
   "cell_type": "code",
   "execution_count": 21,
   "metadata": {},
   "outputs": [],
   "source": [
    "rfcpredict = rfc.predict(X_test)"
   ]
  },
  {
   "cell_type": "code",
   "execution_count": 22,
   "metadata": {},
   "outputs": [
    {
     "data": {
      "text/plain": [
       "0.969464"
      ]
     },
     "execution_count": 22,
     "metadata": {},
     "output_type": "execute_result"
    }
   ],
   "source": [
    "accuracy_score(y_true, rfcpredict)"
   ]
  },
  {
   "cell_type": "code",
   "execution_count": 23,
   "metadata": {},
   "outputs": [
    {
     "name": "stdout",
     "output_type": "stream",
     "text": [
      "              precision    recall  f1-score   support\n",
      "\n",
      "         -11       0.80      0.65      0.72      2907\n",
      "         211       0.97      0.98      0.98    561233\n",
      "         321       0.79      0.70      0.74     46702\n",
      "        2212       0.98      0.99      0.99    389158\n",
      "\n",
      "   micro avg       0.97      0.97      0.97   1000000\n",
      "   macro avg       0.89      0.83      0.86   1000000\n",
      "weighted avg       0.97      0.97      0.97   1000000\n",
      "\n"
     ]
    }
   ],
   "source": [
    "print(classification_report(y_true, rfcpredict))"
   ]
  },
  {
   "cell_type": "markdown",
   "metadata": {},
   "source": [
    "Precision went up quite a bit for both the positron (-11) and the kaon (321), but recall is still too low. We can see that those particles are underrepresented. Since we already have millions of data points, we will undersample the pion (211) and proton (2212) data points to make all particles somewhat equally represented."
   ]
  },
  {
   "cell_type": "code",
   "execution_count": 24,
   "metadata": {},
   "outputs": [],
   "source": [
    "positron = []\n",
    "pion = []\n",
    "kaon = []\n",
    "proton = []\n",
    "\n",
    "for i in range(df[\"id\"].count()):\n",
    "    if df[\"id\"][i] == -11:\n",
    "        positron.append(df.loc[i])\n",
    "    if df[\"id\"][i] == 211:\n",
    "        pion.append(df.loc[i])\n",
    "    if df[\"id\"][i] == 321:\n",
    "        kaon.append(df.loc[i])\n",
    "    if df[\"id\"][i] == 2212:\n",
    "        proton.append(df.loc[i])"
   ]
  },
  {
   "cell_type": "code",
   "execution_count": 25,
   "metadata": {},
   "outputs": [
    {
     "name": "stdout",
     "output_type": "stream",
     "text": [
      "14847\n",
      "2806833\n",
      "232471\n",
      "1945849\n"
     ]
    }
   ],
   "source": [
    "print(len(positron))\n",
    "print(len(pion))\n",
    "print(len(kaon))\n",
    "print(len(proton))"
   ]
  },
  {
   "cell_type": "markdown",
   "metadata": {},
   "source": [
    "Let's make the pion, kaon, and proton sizes equal to the positron size, 14847."
   ]
  },
  {
   "cell_type": "code",
   "execution_count": 31,
   "metadata": {},
   "outputs": [],
   "source": [
    "from random import shuffle\n",
    "\n",
    "shuffle(pion)\n",
    "shuffle(kaon)\n",
    "shuffle(proton)"
   ]
  },
  {
   "cell_type": "code",
   "execution_count": 37,
   "metadata": {},
   "outputs": [],
   "source": [
    "new_pion = []\n",
    "new_kaon = []\n",
    "new_proton = []\n",
    "\n",
    "for i in range(len(positron)):\n",
    "    new_pion.append(pion[i])\n",
    "    new_kaon.append(kaon[i])\n",
    "    new_proton.append(proton[i])"
   ]
  },
  {
   "cell_type": "code",
   "execution_count": 38,
   "metadata": {},
   "outputs": [
    {
     "name": "stdout",
     "output_type": "stream",
     "text": [
      "14847\n",
      "14847\n",
      "14847\n"
     ]
    }
   ],
   "source": [
    "print(len(new_pion))\n",
    "print(len(new_kaon))\n",
    "print(len(new_proton))"
   ]
  },
  {
   "cell_type": "code",
   "execution_count": 39,
   "metadata": {},
   "outputs": [
    {
     "name": "stdout",
     "output_type": "stream",
     "text": [
      "59388\n"
     ]
    }
   ],
   "source": [
    "new_data = new_pion + new_kaon + new_proton + positron\n",
    "print(len(new_data))\n",
    "    "
   ]
  },
  {
   "cell_type": "code",
   "execution_count": 40,
   "metadata": {},
   "outputs": [],
   "source": [
    "shuffle(new_data)"
   ]
  },
  {
   "cell_type": "code",
   "execution_count": 52,
   "metadata": {},
   "outputs": [
    {
     "data": {
      "text/html": [
       "<div>\n",
       "<style scoped>\n",
       "    .dataframe tbody tr th:only-of-type {\n",
       "        vertical-align: middle;\n",
       "    }\n",
       "\n",
       "    .dataframe tbody tr th {\n",
       "        vertical-align: top;\n",
       "    }\n",
       "\n",
       "    .dataframe thead th {\n",
       "        text-align: right;\n",
       "    }\n",
       "</style>\n",
       "<table border=\"1\" class=\"dataframe\">\n",
       "  <thead>\n",
       "    <tr style=\"text-align: right;\">\n",
       "      <th></th>\n",
       "      <th>id</th>\n",
       "      <th>p</th>\n",
       "      <th>theta</th>\n",
       "      <th>beta</th>\n",
       "      <th>nphe</th>\n",
       "      <th>ein</th>\n",
       "      <th>eout</th>\n",
       "      <th>de_Broglie</th>\n",
       "    </tr>\n",
       "  </thead>\n",
       "  <tbody>\n",
       "    <tr>\n",
       "      <th>3427395</th>\n",
       "      <td>211.0</td>\n",
       "      <td>0.330663</td>\n",
       "      <td>0.653412</td>\n",
       "      <td>0.919855</td>\n",
       "      <td>0.0</td>\n",
       "      <td>0.000000</td>\n",
       "      <td>0.000000</td>\n",
       "      <td>3.749558</td>\n",
       "    </tr>\n",
       "    <tr>\n",
       "      <th>1606160</th>\n",
       "      <td>-11.0</td>\n",
       "      <td>0.324559</td>\n",
       "      <td>0.350690</td>\n",
       "      <td>1.001580</td>\n",
       "      <td>0.0</td>\n",
       "      <td>0.000000</td>\n",
       "      <td>0.000000</td>\n",
       "      <td>3.820076</td>\n",
       "    </tr>\n",
       "    <tr>\n",
       "      <th>3363796</th>\n",
       "      <td>-11.0</td>\n",
       "      <td>0.295109</td>\n",
       "      <td>0.708349</td>\n",
       "      <td>0.994779</td>\n",
       "      <td>0.0</td>\n",
       "      <td>0.000000</td>\n",
       "      <td>0.000000</td>\n",
       "      <td>4.201295</td>\n",
       "    </tr>\n",
       "    <tr>\n",
       "      <th>3555869</th>\n",
       "      <td>2212.0</td>\n",
       "      <td>3.264360</td>\n",
       "      <td>0.174592</td>\n",
       "      <td>0.948181</td>\n",
       "      <td>0.0</td>\n",
       "      <td>0.238315</td>\n",
       "      <td>0.230121</td>\n",
       "      <td>0.379811</td>\n",
       "    </tr>\n",
       "    <tr>\n",
       "      <th>2671708</th>\n",
       "      <td>321.0</td>\n",
       "      <td>3.207140</td>\n",
       "      <td>0.358823</td>\n",
       "      <td>0.972153</td>\n",
       "      <td>0.0</td>\n",
       "      <td>0.108309</td>\n",
       "      <td>0.540169</td>\n",
       "      <td>0.386587</td>\n",
       "    </tr>\n",
       "  </tbody>\n",
       "</table>\n",
       "</div>"
      ],
      "text/plain": [
       "             id         p     theta      beta  nphe       ein      eout  \\\n",
       "3427395   211.0  0.330663  0.653412  0.919855   0.0  0.000000  0.000000   \n",
       "1606160   -11.0  0.324559  0.350690  1.001580   0.0  0.000000  0.000000   \n",
       "3363796   -11.0  0.295109  0.708349  0.994779   0.0  0.000000  0.000000   \n",
       "3555869  2212.0  3.264360  0.174592  0.948181   0.0  0.238315  0.230121   \n",
       "2671708   321.0  3.207140  0.358823  0.972153   0.0  0.108309  0.540169   \n",
       "\n",
       "         de_Broglie  \n",
       "3427395    3.749558  \n",
       "1606160    3.820076  \n",
       "3363796    4.201295  \n",
       "3555869    0.379811  \n",
       "2671708    0.386587  "
      ]
     },
     "execution_count": 52,
     "metadata": {},
     "output_type": "execute_result"
    }
   ],
   "source": [
    "newdf = pd.DataFrame(new_data, columns = df.columns)\n",
    "newdf.head()"
   ]
  },
  {
   "cell_type": "code",
   "execution_count": 53,
   "metadata": {},
   "outputs": [
    {
     "data": {
      "text/html": [
       "<div>\n",
       "<style scoped>\n",
       "    .dataframe tbody tr th:only-of-type {\n",
       "        vertical-align: middle;\n",
       "    }\n",
       "\n",
       "    .dataframe tbody tr th {\n",
       "        vertical-align: top;\n",
       "    }\n",
       "\n",
       "    .dataframe thead th {\n",
       "        text-align: right;\n",
       "    }\n",
       "</style>\n",
       "<table border=\"1\" class=\"dataframe\">\n",
       "  <thead>\n",
       "    <tr style=\"text-align: right;\">\n",
       "      <th></th>\n",
       "      <th>index</th>\n",
       "      <th>id</th>\n",
       "      <th>p</th>\n",
       "      <th>theta</th>\n",
       "      <th>beta</th>\n",
       "      <th>nphe</th>\n",
       "      <th>ein</th>\n",
       "      <th>eout</th>\n",
       "      <th>de_Broglie</th>\n",
       "    </tr>\n",
       "  </thead>\n",
       "  <tbody>\n",
       "    <tr>\n",
       "      <th>0</th>\n",
       "      <td>3427395</td>\n",
       "      <td>211.0</td>\n",
       "      <td>0.330663</td>\n",
       "      <td>0.653412</td>\n",
       "      <td>0.919855</td>\n",
       "      <td>0.0</td>\n",
       "      <td>0.000000</td>\n",
       "      <td>0.000000</td>\n",
       "      <td>3.749558</td>\n",
       "    </tr>\n",
       "    <tr>\n",
       "      <th>1</th>\n",
       "      <td>1606160</td>\n",
       "      <td>-11.0</td>\n",
       "      <td>0.324559</td>\n",
       "      <td>0.350690</td>\n",
       "      <td>1.001580</td>\n",
       "      <td>0.0</td>\n",
       "      <td>0.000000</td>\n",
       "      <td>0.000000</td>\n",
       "      <td>3.820076</td>\n",
       "    </tr>\n",
       "    <tr>\n",
       "      <th>2</th>\n",
       "      <td>3363796</td>\n",
       "      <td>-11.0</td>\n",
       "      <td>0.295109</td>\n",
       "      <td>0.708349</td>\n",
       "      <td>0.994779</td>\n",
       "      <td>0.0</td>\n",
       "      <td>0.000000</td>\n",
       "      <td>0.000000</td>\n",
       "      <td>4.201295</td>\n",
       "    </tr>\n",
       "    <tr>\n",
       "      <th>3</th>\n",
       "      <td>3555869</td>\n",
       "      <td>2212.0</td>\n",
       "      <td>3.264360</td>\n",
       "      <td>0.174592</td>\n",
       "      <td>0.948181</td>\n",
       "      <td>0.0</td>\n",
       "      <td>0.238315</td>\n",
       "      <td>0.230121</td>\n",
       "      <td>0.379811</td>\n",
       "    </tr>\n",
       "    <tr>\n",
       "      <th>4</th>\n",
       "      <td>2671708</td>\n",
       "      <td>321.0</td>\n",
       "      <td>3.207140</td>\n",
       "      <td>0.358823</td>\n",
       "      <td>0.972153</td>\n",
       "      <td>0.0</td>\n",
       "      <td>0.108309</td>\n",
       "      <td>0.540169</td>\n",
       "      <td>0.386587</td>\n",
       "    </tr>\n",
       "  </tbody>\n",
       "</table>\n",
       "</div>"
      ],
      "text/plain": [
       "     index      id         p     theta      beta  nphe       ein      eout  \\\n",
       "0  3427395   211.0  0.330663  0.653412  0.919855   0.0  0.000000  0.000000   \n",
       "1  1606160   -11.0  0.324559  0.350690  1.001580   0.0  0.000000  0.000000   \n",
       "2  3363796   -11.0  0.295109  0.708349  0.994779   0.0  0.000000  0.000000   \n",
       "3  3555869  2212.0  3.264360  0.174592  0.948181   0.0  0.238315  0.230121   \n",
       "4  2671708   321.0  3.207140  0.358823  0.972153   0.0  0.108309  0.540169   \n",
       "\n",
       "   de_Broglie  \n",
       "0    3.749558  \n",
       "1    3.820076  \n",
       "2    4.201295  \n",
       "3    0.379811  \n",
       "4    0.386587  "
      ]
     },
     "execution_count": 53,
     "metadata": {},
     "output_type": "execute_result"
    }
   ],
   "source": [
    "newdf = newdf.reset_index()\n",
    "newdf.head()"
   ]
  },
  {
   "cell_type": "code",
   "execution_count": 54,
   "metadata": {},
   "outputs": [
    {
     "data": {
      "text/html": [
       "<div>\n",
       "<style scoped>\n",
       "    .dataframe tbody tr th:only-of-type {\n",
       "        vertical-align: middle;\n",
       "    }\n",
       "\n",
       "    .dataframe tbody tr th {\n",
       "        vertical-align: top;\n",
       "    }\n",
       "\n",
       "    .dataframe thead th {\n",
       "        text-align: right;\n",
       "    }\n",
       "</style>\n",
       "<table border=\"1\" class=\"dataframe\">\n",
       "  <thead>\n",
       "    <tr style=\"text-align: right;\">\n",
       "      <th></th>\n",
       "      <th>id</th>\n",
       "      <th>p</th>\n",
       "      <th>theta</th>\n",
       "      <th>beta</th>\n",
       "      <th>nphe</th>\n",
       "      <th>ein</th>\n",
       "      <th>eout</th>\n",
       "      <th>de_Broglie</th>\n",
       "    </tr>\n",
       "  </thead>\n",
       "  <tbody>\n",
       "    <tr>\n",
       "      <th>0</th>\n",
       "      <td>211.0</td>\n",
       "      <td>0.330663</td>\n",
       "      <td>0.653412</td>\n",
       "      <td>0.919855</td>\n",
       "      <td>0.0</td>\n",
       "      <td>0.000000</td>\n",
       "      <td>0.000000</td>\n",
       "      <td>3.749558</td>\n",
       "    </tr>\n",
       "    <tr>\n",
       "      <th>1</th>\n",
       "      <td>-11.0</td>\n",
       "      <td>0.324559</td>\n",
       "      <td>0.350690</td>\n",
       "      <td>1.001580</td>\n",
       "      <td>0.0</td>\n",
       "      <td>0.000000</td>\n",
       "      <td>0.000000</td>\n",
       "      <td>3.820076</td>\n",
       "    </tr>\n",
       "    <tr>\n",
       "      <th>2</th>\n",
       "      <td>-11.0</td>\n",
       "      <td>0.295109</td>\n",
       "      <td>0.708349</td>\n",
       "      <td>0.994779</td>\n",
       "      <td>0.0</td>\n",
       "      <td>0.000000</td>\n",
       "      <td>0.000000</td>\n",
       "      <td>4.201295</td>\n",
       "    </tr>\n",
       "    <tr>\n",
       "      <th>3</th>\n",
       "      <td>2212.0</td>\n",
       "      <td>3.264360</td>\n",
       "      <td>0.174592</td>\n",
       "      <td>0.948181</td>\n",
       "      <td>0.0</td>\n",
       "      <td>0.238315</td>\n",
       "      <td>0.230121</td>\n",
       "      <td>0.379811</td>\n",
       "    </tr>\n",
       "    <tr>\n",
       "      <th>4</th>\n",
       "      <td>321.0</td>\n",
       "      <td>3.207140</td>\n",
       "      <td>0.358823</td>\n",
       "      <td>0.972153</td>\n",
       "      <td>0.0</td>\n",
       "      <td>0.108309</td>\n",
       "      <td>0.540169</td>\n",
       "      <td>0.386587</td>\n",
       "    </tr>\n",
       "  </tbody>\n",
       "</table>\n",
       "</div>"
      ],
      "text/plain": [
       "       id         p     theta      beta  nphe       ein      eout  de_Broglie\n",
       "0   211.0  0.330663  0.653412  0.919855   0.0  0.000000  0.000000    3.749558\n",
       "1   -11.0  0.324559  0.350690  1.001580   0.0  0.000000  0.000000    3.820076\n",
       "2   -11.0  0.295109  0.708349  0.994779   0.0  0.000000  0.000000    4.201295\n",
       "3  2212.0  3.264360  0.174592  0.948181   0.0  0.238315  0.230121    0.379811\n",
       "4   321.0  3.207140  0.358823  0.972153   0.0  0.108309  0.540169    0.386587"
      ]
     },
     "execution_count": 54,
     "metadata": {},
     "output_type": "execute_result"
    }
   ],
   "source": [
    "newdf = newdf.drop(\"index\", axis = 1)\n",
    "newdf.head()"
   ]
  },
  {
   "cell_type": "code",
   "execution_count": 55,
   "metadata": {},
   "outputs": [
    {
     "data": {
      "text/plain": [
       "(59388, 8)"
      ]
     },
     "execution_count": 55,
     "metadata": {},
     "output_type": "execute_result"
    }
   ],
   "source": [
    "newdf.shape"
   ]
  },
  {
   "cell_type": "code",
   "execution_count": 56,
   "metadata": {},
   "outputs": [],
   "source": [
    "newX = np.array(newdf.drop(\"id\", axis = 1))\n",
    "newy = np.array(newdf[\"id\"])\n",
    "\n",
    "newX_train, newX_test, newy_train, newy_true = train_test_split(newX, newy, test_size = 0.2)"
   ]
  },
  {
   "cell_type": "code",
   "execution_count": 57,
   "metadata": {},
   "outputs": [
    {
     "data": {
      "text/plain": [
       "DecisionTreeClassifier(class_weight=None, criterion='gini', max_depth=None,\n",
       "            max_features=None, max_leaf_nodes=None,\n",
       "            min_impurity_decrease=0.0, min_impurity_split=None,\n",
       "            min_samples_leaf=1, min_samples_split=2,\n",
       "            min_weight_fraction_leaf=0.0, presort=False, random_state=None,\n",
       "            splitter='best')"
      ]
     },
     "execution_count": 57,
     "metadata": {},
     "output_type": "execute_result"
    }
   ],
   "source": [
    "dct.fit(newX_train, newy_train)"
   ]
  },
  {
   "cell_type": "code",
   "execution_count": 58,
   "metadata": {},
   "outputs": [],
   "source": [
    "dctpredict1 = dct.predict(newX_test) #fitting decision tree with balanced sets"
   ]
  },
  {
   "cell_type": "code",
   "execution_count": 59,
   "metadata": {},
   "outputs": [
    {
     "data": {
      "text/plain": [
       "0.9176629062131672"
      ]
     },
     "execution_count": 59,
     "metadata": {},
     "output_type": "execute_result"
    }
   ],
   "source": [
    "accuracy_score(newy_true, dctpredict1)"
   ]
  },
  {
   "cell_type": "code",
   "execution_count": 60,
   "metadata": {},
   "outputs": [
    {
     "name": "stdout",
     "output_type": "stream",
     "text": [
      "              precision    recall  f1-score   support\n",
      "\n",
      "       -11.0       0.94      0.94      0.94      2940\n",
      "       211.0       0.87      0.86      0.87      2950\n",
      "       321.0       0.89      0.90      0.89      2905\n",
      "      2212.0       0.97      0.97      0.97      3083\n",
      "\n",
      "   micro avg       0.92      0.92      0.92     11878\n",
      "   macro avg       0.92      0.92      0.92     11878\n",
      "weighted avg       0.92      0.92      0.92     11878\n",
      "\n"
     ]
    }
   ],
   "source": [
    "print(classification_report(newy_true, dctpredict1))"
   ]
  },
  {
   "cell_type": "markdown",
   "metadata": {},
   "source": [
    "Total accuracy is down, but precision and recall are much more balanced. The numbers look much better overall."
   ]
  },
  {
   "cell_type": "code",
   "execution_count": 61,
   "metadata": {},
   "outputs": [
    {
     "data": {
      "text/plain": [
       "RandomForestClassifier(bootstrap=True, class_weight=None, criterion='gini',\n",
       "            max_depth=None, max_features='auto', max_leaf_nodes=None,\n",
       "            min_impurity_decrease=0.0, min_impurity_split=None,\n",
       "            min_samples_leaf=1, min_samples_split=2,\n",
       "            min_weight_fraction_leaf=0.0, n_estimators=10, n_jobs=None,\n",
       "            oob_score=False, random_state=None, verbose=0,\n",
       "            warm_start=False)"
      ]
     },
     "execution_count": 61,
     "metadata": {},
     "output_type": "execute_result"
    }
   ],
   "source": [
    "rfc.fit(newX_train, newy_train) #fitting random forest with balanced sets"
   ]
  },
  {
   "cell_type": "code",
   "execution_count": 62,
   "metadata": {},
   "outputs": [],
   "source": [
    "rfcpredict1 = rfc.predict(newX_test)"
   ]
  },
  {
   "cell_type": "code",
   "execution_count": 63,
   "metadata": {},
   "outputs": [
    {
     "data": {
      "text/plain": [
       "0.9399730594376158"
      ]
     },
     "execution_count": 63,
     "metadata": {},
     "output_type": "execute_result"
    }
   ],
   "source": [
    "accuracy_score(newy_true, rfcpredict1)"
   ]
  },
  {
   "cell_type": "code",
   "execution_count": 64,
   "metadata": {},
   "outputs": [
    {
     "name": "stdout",
     "output_type": "stream",
     "text": [
      "              precision    recall  f1-score   support\n",
      "\n",
      "       -11.0       0.96      0.96      0.96      2940\n",
      "       211.0       0.91      0.89      0.90      2950\n",
      "       321.0       0.91      0.93      0.92      2905\n",
      "      2212.0       0.98      0.98      0.98      3083\n",
      "\n",
      "   micro avg       0.94      0.94      0.94     11878\n",
      "   macro avg       0.94      0.94      0.94     11878\n",
      "weighted avg       0.94      0.94      0.94     11878\n",
      "\n"
     ]
    }
   ],
   "source": [
    "print(classification_report(newy_true, rfcpredict1))"
   ]
  },
  {
   "cell_type": "markdown",
   "metadata": {},
   "source": [
    "Overall numbers look even better for the random forest. The last thing we will try is increasing the number of samples for a node and as well as for a node split."
   ]
  },
  {
   "cell_type": "code",
   "execution_count": 65,
   "metadata": {},
   "outputs": [],
   "source": [
    "rfc1 = RandomForestClassifier(min_samples_leaf = 5, min_samples_split = 10)\n",
    "dct1 = DecisionTreeClassifier(min_samples_leaf = 5, min_samples_split = 10)"
   ]
  },
  {
   "cell_type": "code",
   "execution_count": 66,
   "metadata": {},
   "outputs": [
    {
     "data": {
      "text/plain": [
       "DecisionTreeClassifier(class_weight=None, criterion='gini', max_depth=None,\n",
       "            max_features=None, max_leaf_nodes=None,\n",
       "            min_impurity_decrease=0.0, min_impurity_split=None,\n",
       "            min_samples_leaf=5, min_samples_split=10,\n",
       "            min_weight_fraction_leaf=0.0, presort=False, random_state=None,\n",
       "            splitter='best')"
      ]
     },
     "execution_count": 66,
     "metadata": {},
     "output_type": "execute_result"
    }
   ],
   "source": [
    "dct1.fit(newX_train, newy_train)"
   ]
  },
  {
   "cell_type": "code",
   "execution_count": 67,
   "metadata": {},
   "outputs": [],
   "source": [
    "dctpredict2 = dct1.predict(newX_test)"
   ]
  },
  {
   "cell_type": "code",
   "execution_count": 68,
   "metadata": {},
   "outputs": [
    {
     "data": {
      "text/plain": [
       "0.9257450749284392"
      ]
     },
     "execution_count": 68,
     "metadata": {},
     "output_type": "execute_result"
    }
   ],
   "source": [
    "accuracy_score(newy_true, dctpredict2)"
   ]
  },
  {
   "cell_type": "code",
   "execution_count": 69,
   "metadata": {},
   "outputs": [
    {
     "name": "stdout",
     "output_type": "stream",
     "text": [
      "              precision    recall  f1-score   support\n",
      "\n",
      "       -11.0       0.95      0.95      0.95      2940\n",
      "       211.0       0.88      0.88      0.88      2950\n",
      "       321.0       0.90      0.90      0.90      2905\n",
      "      2212.0       0.97      0.97      0.97      3083\n",
      "\n",
      "   micro avg       0.93      0.93      0.93     11878\n",
      "   macro avg       0.93      0.93      0.93     11878\n",
      "weighted avg       0.93      0.93      0.93     11878\n",
      "\n"
     ]
    }
   ],
   "source": [
    "print(classification_report(newy_true, dctpredict2))"
   ]
  },
  {
   "cell_type": "code",
   "execution_count": 70,
   "metadata": {},
   "outputs": [
    {
     "name": "stderr",
     "output_type": "stream",
     "text": [
      "/Library/Frameworks/Python.framework/Versions/3.6/lib/python3.6/site-packages/sklearn/ensemble/forest.py:248: FutureWarning: The default value of n_estimators will change from 10 in version 0.20 to 100 in 0.22.\n",
      "  \"10 in version 0.20 to 100 in 0.22.\", FutureWarning)\n"
     ]
    },
    {
     "data": {
      "text/plain": [
       "RandomForestClassifier(bootstrap=True, class_weight=None, criterion='gini',\n",
       "            max_depth=None, max_features='auto', max_leaf_nodes=None,\n",
       "            min_impurity_decrease=0.0, min_impurity_split=None,\n",
       "            min_samples_leaf=5, min_samples_split=10,\n",
       "            min_weight_fraction_leaf=0.0, n_estimators=10, n_jobs=None,\n",
       "            oob_score=False, random_state=None, verbose=0,\n",
       "            warm_start=False)"
      ]
     },
     "execution_count": 70,
     "metadata": {},
     "output_type": "execute_result"
    }
   ],
   "source": [
    "rfc1.fit(newX_train, newy_train)"
   ]
  },
  {
   "cell_type": "code",
   "execution_count": 71,
   "metadata": {},
   "outputs": [],
   "source": [
    "rfcpredict2 = rfc1.predict(newX_test)"
   ]
  },
  {
   "cell_type": "code",
   "execution_count": 72,
   "metadata": {},
   "outputs": [
    {
     "data": {
      "text/plain": [
       "0.9431722512207442"
      ]
     },
     "execution_count": 72,
     "metadata": {},
     "output_type": "execute_result"
    }
   ],
   "source": [
    "accuracy_score(newy_true, rfcpredict2)"
   ]
  },
  {
   "cell_type": "code",
   "execution_count": 73,
   "metadata": {},
   "outputs": [
    {
     "name": "stdout",
     "output_type": "stream",
     "text": [
      "              precision    recall  f1-score   support\n",
      "\n",
      "       -11.0       0.97      0.95      0.96      2940\n",
      "       211.0       0.92      0.89      0.91      2950\n",
      "       321.0       0.91      0.94      0.92      2905\n",
      "      2212.0       0.97      0.98      0.98      3083\n",
      "\n",
      "   micro avg       0.94      0.94      0.94     11878\n",
      "   macro avg       0.94      0.94      0.94     11878\n",
      "weighted avg       0.94      0.94      0.94     11878\n",
      "\n"
     ]
    }
   ],
   "source": [
    "print(classification_report(newy_true, rfcpredict2))"
   ]
  },
  {
   "cell_type": "markdown",
   "metadata": {},
   "source": [
    "We had better overall accuracy with unbalanced sets, but the precision and recall for the positron (-11) and the kaon (321) were not good enough. When we undersampled the data, the overall accuracy was lower, but precision and recall for all particles was over .90 (with the exception of the pion (211) which had .89 for recall)."
   ]
  },
  {
   "cell_type": "code",
   "execution_count": null,
   "metadata": {},
   "outputs": [],
   "source": []
  }
 ],
 "metadata": {
  "kernelspec": {
   "display_name": "Python 3",
   "language": "python",
   "name": "python3"
  },
  "language_info": {
   "codemirror_mode": {
    "name": "ipython",
    "version": 3
   },
   "file_extension": ".py",
   "mimetype": "text/x-python",
   "name": "python",
   "nbconvert_exporter": "python",
   "pygments_lexer": "ipython3",
   "version": "3.6.2"
  }
 },
 "nbformat": 4,
 "nbformat_minor": 2
}
