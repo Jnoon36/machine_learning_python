{
 "cells": [
  {
   "cell_type": "markdown",
   "metadata": {},
   "source": [
    "The following dataset is from a GEANT based simulation of electron-proton inelastic scattering measured by a particle detector system.\n",
    "\n",
    "We will be using Decision Trees and Random Forests to classify particles based on feature data measured by the detector. As the author of the data notes, zeros are in some columns either becuase of detector malfunction or lack of geometric data.  In order to rule out a false sense of accuracy, I will drop the columns where zeors are prevelant (nphe, ein, eout). \n",
    "\n",
    "\n",
    "The ultamite goal is to take data measured by the detector (and new features that can be extrapolated from the given data) and train the algorithms on that data in order to make future predictions. Then, after the new detector data comes in, we already have a trained model that can give us a decently accurate prediction on what the particle is."
   ]
  },
  {
   "cell_type": "markdown",
   "metadata": {},
   "source": [
    "The features we will have are p (momentum) in units of GeV/c, Theta (angle) in units of radians, and Beta (angle) in units of radians."
   ]
  },
  {
   "cell_type": "code",
   "execution_count": 1,
   "metadata": {},
   "outputs": [],
   "source": [
    "import numpy as np\n",
    "import pandas as pd\n",
    "import matplotlib.pyplot as plt\n",
    "from sklearn.metrics import accuracy_score, confusion_matrix, classification_report\n",
    "from sklearn.tree import DecisionTreeClassifier\n",
    "from sklearn.ensemble import RandomForestClassifier"
   ]
  },
  {
   "cell_type": "code",
   "execution_count": 2,
   "metadata": {},
   "outputs": [
    {
     "data": {
      "text/html": [
       "<div>\n",
       "<style scoped>\n",
       "    .dataframe tbody tr th:only-of-type {\n",
       "        vertical-align: middle;\n",
       "    }\n",
       "\n",
       "    .dataframe tbody tr th {\n",
       "        vertical-align: top;\n",
       "    }\n",
       "\n",
       "    .dataframe thead th {\n",
       "        text-align: right;\n",
       "    }\n",
       "</style>\n",
       "<table border=\"1\" class=\"dataframe\">\n",
       "  <thead>\n",
       "    <tr style=\"text-align: right;\">\n",
       "      <th></th>\n",
       "      <th>id</th>\n",
       "      <th>p</th>\n",
       "      <th>theta</th>\n",
       "      <th>beta</th>\n",
       "      <th>nphe</th>\n",
       "      <th>ein</th>\n",
       "      <th>eout</th>\n",
       "    </tr>\n",
       "  </thead>\n",
       "  <tbody>\n",
       "    <tr>\n",
       "      <th>0</th>\n",
       "      <td>211</td>\n",
       "      <td>0.780041</td>\n",
       "      <td>1.081480</td>\n",
       "      <td>0.989962</td>\n",
       "      <td>0</td>\n",
       "      <td>0.000000</td>\n",
       "      <td>0.000000</td>\n",
       "    </tr>\n",
       "    <tr>\n",
       "      <th>1</th>\n",
       "      <td>211</td>\n",
       "      <td>0.260929</td>\n",
       "      <td>0.778892</td>\n",
       "      <td>0.902450</td>\n",
       "      <td>0</td>\n",
       "      <td>0.000000</td>\n",
       "      <td>0.000000</td>\n",
       "    </tr>\n",
       "    <tr>\n",
       "      <th>2</th>\n",
       "      <td>2212</td>\n",
       "      <td>0.773022</td>\n",
       "      <td>0.185953</td>\n",
       "      <td>0.642428</td>\n",
       "      <td>4</td>\n",
       "      <td>0.101900</td>\n",
       "      <td>0.000000</td>\n",
       "    </tr>\n",
       "    <tr>\n",
       "      <th>3</th>\n",
       "      <td>211</td>\n",
       "      <td>0.476997</td>\n",
       "      <td>0.445561</td>\n",
       "      <td>0.951471</td>\n",
       "      <td>0</td>\n",
       "      <td>0.000000</td>\n",
       "      <td>0.000000</td>\n",
       "    </tr>\n",
       "    <tr>\n",
       "      <th>4</th>\n",
       "      <td>2212</td>\n",
       "      <td>2.123290</td>\n",
       "      <td>0.337332</td>\n",
       "      <td>0.908652</td>\n",
       "      <td>0</td>\n",
       "      <td>0.034379</td>\n",
       "      <td>0.049256</td>\n",
       "    </tr>\n",
       "  </tbody>\n",
       "</table>\n",
       "</div>"
      ],
      "text/plain": [
       "     id         p     theta      beta  nphe       ein      eout\n",
       "0   211  0.780041  1.081480  0.989962     0  0.000000  0.000000\n",
       "1   211  0.260929  0.778892  0.902450     0  0.000000  0.000000\n",
       "2  2212  0.773022  0.185953  0.642428     4  0.101900  0.000000\n",
       "3   211  0.476997  0.445561  0.951471     0  0.000000  0.000000\n",
       "4  2212  2.123290  0.337332  0.908652     0  0.034379  0.049256"
      ]
     },
     "execution_count": 2,
     "metadata": {},
     "output_type": "execute_result"
    }
   ],
   "source": [
    "df = pd.read_csv(\"pid-5M.csv\")\n",
    "df.head()"
   ]
  },
  {
   "cell_type": "code",
   "execution_count": 3,
   "metadata": {},
   "outputs": [
    {
     "data": {
      "text/html": [
       "<div>\n",
       "<style scoped>\n",
       "    .dataframe tbody tr th:only-of-type {\n",
       "        vertical-align: middle;\n",
       "    }\n",
       "\n",
       "    .dataframe tbody tr th {\n",
       "        vertical-align: top;\n",
       "    }\n",
       "\n",
       "    .dataframe thead th {\n",
       "        text-align: right;\n",
       "    }\n",
       "</style>\n",
       "<table border=\"1\" class=\"dataframe\">\n",
       "  <thead>\n",
       "    <tr style=\"text-align: right;\">\n",
       "      <th></th>\n",
       "      <th>id</th>\n",
       "      <th>p</th>\n",
       "      <th>theta</th>\n",
       "      <th>beta</th>\n",
       "    </tr>\n",
       "  </thead>\n",
       "  <tbody>\n",
       "    <tr>\n",
       "      <th>0</th>\n",
       "      <td>211</td>\n",
       "      <td>0.780041</td>\n",
       "      <td>1.081480</td>\n",
       "      <td>0.989962</td>\n",
       "    </tr>\n",
       "    <tr>\n",
       "      <th>1</th>\n",
       "      <td>211</td>\n",
       "      <td>0.260929</td>\n",
       "      <td>0.778892</td>\n",
       "      <td>0.902450</td>\n",
       "    </tr>\n",
       "    <tr>\n",
       "      <th>2</th>\n",
       "      <td>2212</td>\n",
       "      <td>0.773022</td>\n",
       "      <td>0.185953</td>\n",
       "      <td>0.642428</td>\n",
       "    </tr>\n",
       "    <tr>\n",
       "      <th>3</th>\n",
       "      <td>211</td>\n",
       "      <td>0.476997</td>\n",
       "      <td>0.445561</td>\n",
       "      <td>0.951471</td>\n",
       "    </tr>\n",
       "    <tr>\n",
       "      <th>4</th>\n",
       "      <td>2212</td>\n",
       "      <td>2.123290</td>\n",
       "      <td>0.337332</td>\n",
       "      <td>0.908652</td>\n",
       "    </tr>\n",
       "  </tbody>\n",
       "</table>\n",
       "</div>"
      ],
      "text/plain": [
       "     id         p     theta      beta\n",
       "0   211  0.780041  1.081480  0.989962\n",
       "1   211  0.260929  0.778892  0.902450\n",
       "2  2212  0.773022  0.185953  0.642428\n",
       "3   211  0.476997  0.445561  0.951471\n",
       "4  2212  2.123290  0.337332  0.908652"
      ]
     },
     "execution_count": 3,
     "metadata": {},
     "output_type": "execute_result"
    }
   ],
   "source": [
    "df = df.drop(\"nphe\", axis = 1)\n",
    "df = df.drop(\"ein\", axis = 1)\n",
    "df = df.drop(\"eout\", axis = 1)\n",
    "df.head()"
   ]
  },
  {
   "cell_type": "code",
   "execution_count": 4,
   "metadata": {},
   "outputs": [
    {
     "data": {
      "text/plain": [
       "(5000000, 4)"
      ]
     },
     "execution_count": 4,
     "metadata": {},
     "output_type": "execute_result"
    }
   ],
   "source": [
    "df.shape"
   ]
  },
  {
   "cell_type": "markdown",
   "metadata": {},
   "source": [
    "We can add another column with each particle's de Broglie wavelength. By taking hc/pc, we can get the de Broglie wavelength in nm. To make the numbers a little more like the numbers we have, we can then multiply each de Broglie wavelength by 1,000,000 in order for the lengths to be in femptometers (fm)."
   ]
  },
  {
   "cell_type": "markdown",
   "metadata": {},
   "source": [
    "Note that p (momentum) already is in units of GeV/c. So multiplying p by c just gives us a number in units of GeV."
   ]
  },
  {
   "cell_type": "code",
   "execution_count": 5,
   "metadata": {},
   "outputs": [
    {
     "data": {
      "text/html": [
       "<div>\n",
       "<style scoped>\n",
       "    .dataframe tbody tr th:only-of-type {\n",
       "        vertical-align: middle;\n",
       "    }\n",
       "\n",
       "    .dataframe tbody tr th {\n",
       "        vertical-align: top;\n",
       "    }\n",
       "\n",
       "    .dataframe thead th {\n",
       "        text-align: right;\n",
       "    }\n",
       "</style>\n",
       "<table border=\"1\" class=\"dataframe\">\n",
       "  <thead>\n",
       "    <tr style=\"text-align: right;\">\n",
       "      <th></th>\n",
       "      <th>id</th>\n",
       "      <th>p</th>\n",
       "      <th>theta</th>\n",
       "      <th>beta</th>\n",
       "      <th>de_Broglie</th>\n",
       "    </tr>\n",
       "  </thead>\n",
       "  <tbody>\n",
       "    <tr>\n",
       "      <th>0</th>\n",
       "      <td>211</td>\n",
       "      <td>0.780041</td>\n",
       "      <td>1.081480</td>\n",
       "      <td>0.989962</td>\n",
       "      <td></td>\n",
       "    </tr>\n",
       "    <tr>\n",
       "      <th>1</th>\n",
       "      <td>211</td>\n",
       "      <td>0.260929</td>\n",
       "      <td>0.778892</td>\n",
       "      <td>0.902450</td>\n",
       "      <td></td>\n",
       "    </tr>\n",
       "    <tr>\n",
       "      <th>2</th>\n",
       "      <td>2212</td>\n",
       "      <td>0.773022</td>\n",
       "      <td>0.185953</td>\n",
       "      <td>0.642428</td>\n",
       "      <td></td>\n",
       "    </tr>\n",
       "    <tr>\n",
       "      <th>3</th>\n",
       "      <td>211</td>\n",
       "      <td>0.476997</td>\n",
       "      <td>0.445561</td>\n",
       "      <td>0.951471</td>\n",
       "      <td></td>\n",
       "    </tr>\n",
       "    <tr>\n",
       "      <th>4</th>\n",
       "      <td>2212</td>\n",
       "      <td>2.123290</td>\n",
       "      <td>0.337332</td>\n",
       "      <td>0.908652</td>\n",
       "      <td></td>\n",
       "    </tr>\n",
       "  </tbody>\n",
       "</table>\n",
       "</div>"
      ],
      "text/plain": [
       "     id         p     theta      beta de_Broglie\n",
       "0   211  0.780041  1.081480  0.989962           \n",
       "1   211  0.260929  0.778892  0.902450           \n",
       "2  2212  0.773022  0.185953  0.642428           \n",
       "3   211  0.476997  0.445561  0.951471           \n",
       "4  2212  2.123290  0.337332  0.908652           "
      ]
     },
     "execution_count": 5,
     "metadata": {},
     "output_type": "execute_result"
    }
   ],
   "source": [
    "df[\"de_Broglie\"] = \"\"\n",
    "df.head()"
   ]
  },
  {
   "cell_type": "code",
   "execution_count": 6,
   "metadata": {},
   "outputs": [],
   "source": [
    "h_c = .00000123984 #hc planck's constant, units GeV*nm\n",
    "\n",
    "def lamda(p):\n",
    "    return h_c/p"
   ]
  },
  {
   "cell_type": "code",
   "execution_count": 7,
   "metadata": {},
   "outputs": [],
   "source": [
    "wavelengths = []\n",
    "for i in range(df[\"id\"].count()):\n",
    "    x = df[\"p\"][i]\n",
    "    y = lamda(x)\n",
    "    wavelengths.append(y)"
   ]
  },
  {
   "cell_type": "code",
   "execution_count": 8,
   "metadata": {},
   "outputs": [],
   "source": [
    "#Putting wavelengths in units of fm\n",
    "new_wavelengths = []\n",
    "for i in range(len(wavelengths)):\n",
    "    x = wavelengths[i]\n",
    "    new_wavelengths.append(x*1000000)"
   ]
  },
  {
   "cell_type": "code",
   "execution_count": 9,
   "metadata": {},
   "outputs": [
    {
     "data": {
      "text/html": [
       "<div>\n",
       "<style scoped>\n",
       "    .dataframe tbody tr th:only-of-type {\n",
       "        vertical-align: middle;\n",
       "    }\n",
       "\n",
       "    .dataframe tbody tr th {\n",
       "        vertical-align: top;\n",
       "    }\n",
       "\n",
       "    .dataframe thead th {\n",
       "        text-align: right;\n",
       "    }\n",
       "</style>\n",
       "<table border=\"1\" class=\"dataframe\">\n",
       "  <thead>\n",
       "    <tr style=\"text-align: right;\">\n",
       "      <th></th>\n",
       "      <th>id</th>\n",
       "      <th>p</th>\n",
       "      <th>theta</th>\n",
       "      <th>beta</th>\n",
       "      <th>de_Broglie</th>\n",
       "    </tr>\n",
       "  </thead>\n",
       "  <tbody>\n",
       "    <tr>\n",
       "      <th>0</th>\n",
       "      <td>211</td>\n",
       "      <td>0.780041</td>\n",
       "      <td>1.081480</td>\n",
       "      <td>0.989962</td>\n",
       "      <td>1.589455</td>\n",
       "    </tr>\n",
       "    <tr>\n",
       "      <th>1</th>\n",
       "      <td>211</td>\n",
       "      <td>0.260929</td>\n",
       "      <td>0.778892</td>\n",
       "      <td>0.902450</td>\n",
       "      <td>4.751637</td>\n",
       "    </tr>\n",
       "    <tr>\n",
       "      <th>2</th>\n",
       "      <td>2212</td>\n",
       "      <td>0.773022</td>\n",
       "      <td>0.185953</td>\n",
       "      <td>0.642428</td>\n",
       "      <td>1.603887</td>\n",
       "    </tr>\n",
       "    <tr>\n",
       "      <th>3</th>\n",
       "      <td>211</td>\n",
       "      <td>0.476997</td>\n",
       "      <td>0.445561</td>\n",
       "      <td>0.951471</td>\n",
       "      <td>2.599262</td>\n",
       "    </tr>\n",
       "    <tr>\n",
       "      <th>4</th>\n",
       "      <td>2212</td>\n",
       "      <td>2.123290</td>\n",
       "      <td>0.337332</td>\n",
       "      <td>0.908652</td>\n",
       "      <td>0.583924</td>\n",
       "    </tr>\n",
       "  </tbody>\n",
       "</table>\n",
       "</div>"
      ],
      "text/plain": [
       "     id         p     theta      beta  de_Broglie\n",
       "0   211  0.780041  1.081480  0.989962    1.589455\n",
       "1   211  0.260929  0.778892  0.902450    4.751637\n",
       "2  2212  0.773022  0.185953  0.642428    1.603887\n",
       "3   211  0.476997  0.445561  0.951471    2.599262\n",
       "4  2212  2.123290  0.337332  0.908652    0.583924"
      ]
     },
     "execution_count": 9,
     "metadata": {},
     "output_type": "execute_result"
    }
   ],
   "source": [
    "df[\"de_Broglie\"] = new_wavelengths\n",
    "df.head()"
   ]
  },
  {
   "cell_type": "code",
   "execution_count": 10,
   "metadata": {},
   "outputs": [
    {
     "data": {
      "text/html": [
       "<div>\n",
       "<style scoped>\n",
       "    .dataframe tbody tr th:only-of-type {\n",
       "        vertical-align: middle;\n",
       "    }\n",
       "\n",
       "    .dataframe tbody tr th {\n",
       "        vertical-align: top;\n",
       "    }\n",
       "\n",
       "    .dataframe thead th {\n",
       "        text-align: right;\n",
       "    }\n",
       "</style>\n",
       "<table border=\"1\" class=\"dataframe\">\n",
       "  <thead>\n",
       "    <tr style=\"text-align: right;\">\n",
       "      <th></th>\n",
       "      <th>id</th>\n",
       "      <th>p</th>\n",
       "      <th>theta</th>\n",
       "      <th>beta</th>\n",
       "      <th>de_Broglie</th>\n",
       "    </tr>\n",
       "  </thead>\n",
       "  <tbody>\n",
       "    <tr>\n",
       "      <th>count</th>\n",
       "      <td>5.000000e+06</td>\n",
       "      <td>5.000000e+06</td>\n",
       "      <td>5.000000e+06</td>\n",
       "      <td>5.000000e+06</td>\n",
       "      <td>5.000000e+06</td>\n",
       "    </tr>\n",
       "    <tr>\n",
       "      <th>mean</th>\n",
       "      <td>9.941839e+02</td>\n",
       "      <td>1.230053e+00</td>\n",
       "      <td>4.889321e-01</td>\n",
       "      <td>8.995796e-01</td>\n",
       "      <td>1.514775e+00</td>\n",
       "    </tr>\n",
       "    <tr>\n",
       "      <th>std</th>\n",
       "      <td>9.724034e+02</td>\n",
       "      <td>7.414895e-01</td>\n",
       "      <td>2.942161e-01</td>\n",
       "      <td>1.132321e-01</td>\n",
       "      <td>1.088758e+00</td>\n",
       "    </tr>\n",
       "    <tr>\n",
       "      <th>min</th>\n",
       "      <td>-1.100000e+01</td>\n",
       "      <td>2.101170e-01</td>\n",
       "      <td>9.222140e-02</td>\n",
       "      <td>5.500010e-01</td>\n",
       "      <td>2.345095e-01</td>\n",
       "    </tr>\n",
       "    <tr>\n",
       "      <th>25%</th>\n",
       "      <td>2.110000e+02</td>\n",
       "      <td>6.657510e-01</td>\n",
       "      <td>2.817420e-01</td>\n",
       "      <td>8.378760e-01</td>\n",
       "      <td>7.515776e-01</td>\n",
       "    </tr>\n",
       "    <tr>\n",
       "      <th>50%</th>\n",
       "      <td>2.110000e+02</td>\n",
       "      <td>1.066150e+00</td>\n",
       "      <td>4.048670e-01</td>\n",
       "      <td>9.461940e-01</td>\n",
       "      <td>1.162913e+00</td>\n",
       "    </tr>\n",
       "    <tr>\n",
       "      <th>75%</th>\n",
       "      <td>2.212000e+03</td>\n",
       "      <td>1.649650e+00</td>\n",
       "      <td>6.117800e-01</td>\n",
       "      <td>9.855910e-01</td>\n",
       "      <td>1.862318e+00</td>\n",
       "    </tr>\n",
       "    <tr>\n",
       "      <th>max</th>\n",
       "      <td>2.212000e+03</td>\n",
       "      <td>5.286950e+00</td>\n",
       "      <td>2.219270e+00</td>\n",
       "      <td>1.499590e+00</td>\n",
       "      <td>5.900712e+00</td>\n",
       "    </tr>\n",
       "  </tbody>\n",
       "</table>\n",
       "</div>"
      ],
      "text/plain": [
       "                 id             p         theta          beta    de_Broglie\n",
       "count  5.000000e+06  5.000000e+06  5.000000e+06  5.000000e+06  5.000000e+06\n",
       "mean   9.941839e+02  1.230053e+00  4.889321e-01  8.995796e-01  1.514775e+00\n",
       "std    9.724034e+02  7.414895e-01  2.942161e-01  1.132321e-01  1.088758e+00\n",
       "min   -1.100000e+01  2.101170e-01  9.222140e-02  5.500010e-01  2.345095e-01\n",
       "25%    2.110000e+02  6.657510e-01  2.817420e-01  8.378760e-01  7.515776e-01\n",
       "50%    2.110000e+02  1.066150e+00  4.048670e-01  9.461940e-01  1.162913e+00\n",
       "75%    2.212000e+03  1.649650e+00  6.117800e-01  9.855910e-01  1.862318e+00\n",
       "max    2.212000e+03  5.286950e+00  2.219270e+00  1.499590e+00  5.900712e+00"
      ]
     },
     "execution_count": 10,
     "metadata": {},
     "output_type": "execute_result"
    }
   ],
   "source": [
    "df.describe()"
   ]
  },
  {
   "cell_type": "markdown",
   "metadata": {},
   "source": [
    "Let's see how unbalanced the data is. If there are particles that show up a lot less than others, we need to duplicate some rows."
   ]
  },
  {
   "cell_type": "markdown",
   "metadata": {},
   "source": [
    "ID's: Positron (-11), Pion (211), Kaon (321), Proton (2212)"
   ]
  },
  {
   "cell_type": "code",
   "execution_count": 12,
   "metadata": {},
   "outputs": [],
   "source": [
    "positron_data = []\n",
    "pion_data = []\n",
    "kaon_data = []\n",
    "proton_data = []\n",
    "\n",
    "for i in range(df[\"id\"].count()):\n",
    "    if df[\"id\"][i] == -11:\n",
    "        positron_data.append(df.loc[i])\n",
    "    if df[\"id\"][i] == 211:\n",
    "        pion_data.append(df.loc[i])\n",
    "    if df[\"id\"][i] == 321:\n",
    "        kaon_data.append(df.loc[i])\n",
    "    if df[\"id\"][i] == 2212:\n",
    "        proton_data.append(df.loc[i])"
   ]
  },
  {
   "cell_type": "code",
   "execution_count": 13,
   "metadata": {},
   "outputs": [
    {
     "name": "stdout",
     "output_type": "stream",
     "text": [
      "14847\n",
      "2806833\n",
      "232471\n",
      "1945849\n"
     ]
    }
   ],
   "source": [
    "print(len(positron_data))\n",
    "print(len(pion_data))\n",
    "print(len(kaon_data))\n",
    "print(len(proton_data))"
   ]
  },
  {
   "cell_type": "markdown",
   "metadata": {},
   "source": [
    "The number of positrons and kaons are vastly outnumbered by the amount of pions and protons. Before we do anything about that, let's look at some distributions and a correlation matrix."
   ]
  },
  {
   "cell_type": "code",
   "execution_count": 14,
   "metadata": {},
   "outputs": [
    {
     "data": {
      "text/plain": [
       "Text(0.5,1,'Momentum Distribution for all Particles')"
      ]
     },
     "execution_count": 14,
     "metadata": {},
     "output_type": "execute_result"
    },
    {
     "data": {
      "image/png": "[encoded data removed]",
      "text/plain": [
       "<Figure size 432x288 with 1 Axes>"
      ]
     },
     "metadata": {},
     "output_type": "display_data"
    }
   ],
   "source": [
    "#Momentum Histogram\n",
    "momentum = np.array(df[\"p\"])\n",
    "plt.hist(momentum, range = (momentum.min(), momentum.max()))\n",
    "plt.xlabel(\"Momentum (GeV/c)\")\n",
    "plt.ylabel(\"Frequency\")\n",
    "plt.title(\"Momentum Distribution for all Particles\")"
   ]
  },
  {
   "cell_type": "code",
   "execution_count": 15,
   "metadata": {},
   "outputs": [
    {
     "data": {
      "text/plain": [
       "Text(0.5,1,'Theta Distribution for all Particles')"
      ]
     },
     "execution_count": 15,
     "metadata": {},
     "output_type": "execute_result"
    },
    {
     "data": {
      "image/png": "[encoded data removed]",
      "text/plain": [
       "<Figure size 432x288 with 1 Axes>"
      ]
     },
     "metadata": {},
     "output_type": "display_data"
    }
   ],
   "source": [
    "#Theta Histogram\n",
    "theta = np.array(df[\"theta\"])\n",
    "plt.hist(theta, range = (theta.min(), theta.max()))\n",
    "plt.xlabel(\"Theta (Rads)\")\n",
    "plt.ylabel(\"Frequency\")\n",
    "plt.title(\"Theta Distribution for all Particles\")"
   ]
  },
  {
   "cell_type": "code",
   "execution_count": 17,
   "metadata": {},
   "outputs": [
    {
     "data": {
      "text/plain": [
       "Text(0.5,1,'Beta Distribution for all Particles')"
      ]
     },
     "execution_count": 17,
     "metadata": {},
     "output_type": "execute_result"
    },
    {
     "data": {
      "image/png": "[encoded data removed]",
      "text/plain": [
       "<Figure size 432x288 with 1 Axes>"
      ]
     },
     "metadata": {},
     "output_type": "display_data"
    }
   ],
   "source": [
    "#Beta Histogram\n",
    "beta = np.array(df[\"beta\"])\n",
    "plt.hist(beta, range = (beta.min(), beta.max()))\n",
    "plt.xlabel(\"Beta (Rads)\")\n",
    "plt.ylabel(\"Frequency\")\n",
    "plt.title(\"Beta Distribution for all Particles\")"
   ]
  },
  {
   "cell_type": "code",
   "execution_count": 18,
   "metadata": {},
   "outputs": [
    {
     "data": {
      "text/plain": [
       "Text(0.5,1,'de Broglie Wavelength Distribution for all Particles')"
      ]
     },
     "execution_count": 18,
     "metadata": {},
     "output_type": "execute_result"
    },
    {
     "data": {
      "image/png": "[encoded data removed]",
      "text/plain": [
       "<Figure size 432x288 with 1 Axes>"
      ]
     },
     "metadata": {},
     "output_type": "display_data"
    }
   ],
   "source": [
    "#de Broglie Histogram\n",
    "de_broglie = np.array(df[\"de_Broglie\"])\n",
    "plt.hist(de_broglie, range = (de_broglie.min(), de_broglie.max()))\n",
    "plt.xlabel(\"de Broglie Wavelength (fm)\")\n",
    "plt.ylabel(\"Frequency\")\n",
    "plt.title(\"de Broglie Wavelength Distribution for all Particles\")"
   ]
  },
  {
   "cell_type": "code",
   "execution_count": 19,
   "metadata": {},
   "outputs": [
    {
     "data": {
      "image/png": "[encoded data removed]",
      "text/plain": [
       "<Figure size 432x288 with 2 Axes>"
      ]
     },
     "metadata": {},
     "output_type": "display_data"
    }
   ],
   "source": [
    "#Heatmap of features\n",
    "\n",
    "import seaborn as sns\n",
    "sns.heatmap(df[[\"id\", \"p\", \"theta\", \"beta\", \"de_Broglie\"]].corr())\n",
    "sns.set(style = 'dark')"
   ]
  },
  {
   "cell_type": "markdown",
   "metadata": {},
   "source": [
    "To make the amount of positron ids and kaon ids on par with the amount of pion and proton ids, we will duplicate rows that correspond to positrons and kaons. \n",
    "\n",
    "The first step will be to create arrays for each individual particle. We will duplicate the ones that need duplicated (positrons and kaons) and then create individual dataframes for each of the four particles. After that, we will create a whole new dataframe that contains each of the four individual particle dataframes. \n",
    "\n",
    "Finally, we create an array from the new dataframe containing all particles, shuffle the rows, and then reassign our new dataframe to contain the data from the shuffled array."
   ]
  },
  {
   "cell_type": "code",
   "execution_count": 20,
   "metadata": {},
   "outputs": [
    {
     "data": {
      "text/html": [
       "<div>\n",
       "<style scoped>\n",
       "    .dataframe tbody tr th:only-of-type {\n",
       "        vertical-align: middle;\n",
       "    }\n",
       "\n",
       "    .dataframe tbody tr th {\n",
       "        vertical-align: top;\n",
       "    }\n",
       "\n",
       "    .dataframe thead th {\n",
       "        text-align: right;\n",
       "    }\n",
       "</style>\n",
       "<table border=\"1\" class=\"dataframe\">\n",
       "  <thead>\n",
       "    <tr style=\"text-align: right;\">\n",
       "      <th></th>\n",
       "      <th>id</th>\n",
       "      <th>p</th>\n",
       "      <th>theta</th>\n",
       "      <th>beta</th>\n",
       "      <th>de_Broglie</th>\n",
       "    </tr>\n",
       "  </thead>\n",
       "  <tbody>\n",
       "    <tr>\n",
       "      <th>0</th>\n",
       "      <td>-11.0</td>\n",
       "      <td>0.254673</td>\n",
       "      <td>0.720088</td>\n",
       "      <td>0.981178</td>\n",
       "      <td>4.868361</td>\n",
       "    </tr>\n",
       "    <tr>\n",
       "      <th>1</th>\n",
       "      <td>-11.0</td>\n",
       "      <td>0.847486</td>\n",
       "      <td>0.375585</td>\n",
       "      <td>0.987139</td>\n",
       "      <td>1.462962</td>\n",
       "    </tr>\n",
       "    <tr>\n",
       "      <th>2</th>\n",
       "      <td>-11.0</td>\n",
       "      <td>0.888380</td>\n",
       "      <td>0.499710</td>\n",
       "      <td>1.009220</td>\n",
       "      <td>1.395619</td>\n",
       "    </tr>\n",
       "    <tr>\n",
       "      <th>3</th>\n",
       "      <td>-11.0</td>\n",
       "      <td>1.258720</td>\n",
       "      <td>0.445546</td>\n",
       "      <td>0.982665</td>\n",
       "      <td>0.985001</td>\n",
       "    </tr>\n",
       "    <tr>\n",
       "      <th>4</th>\n",
       "      <td>-11.0</td>\n",
       "      <td>0.395056</td>\n",
       "      <td>0.797188</td>\n",
       "      <td>1.005060</td>\n",
       "      <td>3.138391</td>\n",
       "    </tr>\n",
       "  </tbody>\n",
       "</table>\n",
       "</div>"
      ],
      "text/plain": [
       "     id         p     theta      beta  de_Broglie\n",
       "0 -11.0  0.254673  0.720088  0.981178    4.868361\n",
       "1 -11.0  0.847486  0.375585  0.987139    1.462962\n",
       "2 -11.0  0.888380  0.499710  1.009220    1.395619\n",
       "3 -11.0  1.258720  0.445546  0.982665    0.985001\n",
       "4 -11.0  0.395056  0.797188  1.005060    3.138391"
      ]
     },
     "execution_count": 20,
     "metadata": {},
     "output_type": "execute_result"
    }
   ],
   "source": [
    "positron_data = np.repeat(np.array(positron_data), 100, axis = 0)\n",
    "np.random.shuffle(positron_data)\n",
    "positron_array = positron_data\n",
    "positrondf = pd.DataFrame(positron_array, columns = df.columns)\n",
    "positrondf.head()"
   ]
  },
  {
   "cell_type": "code",
   "execution_count": 21,
   "metadata": {},
   "outputs": [
    {
     "data": {
      "text/plain": [
       "(1484700, 5)"
      ]
     },
     "execution_count": 21,
     "metadata": {},
     "output_type": "execute_result"
    }
   ],
   "source": [
    "positrondf.shape"
   ]
  },
  {
   "cell_type": "code",
   "execution_count": 23,
   "metadata": {},
   "outputs": [
    {
     "data": {
      "text/html": [
       "<div>\n",
       "<style scoped>\n",
       "    .dataframe tbody tr th:only-of-type {\n",
       "        vertical-align: middle;\n",
       "    }\n",
       "\n",
       "    .dataframe tbody tr th {\n",
       "        vertical-align: top;\n",
       "    }\n",
       "\n",
       "    .dataframe thead th {\n",
       "        text-align: right;\n",
       "    }\n",
       "</style>\n",
       "<table border=\"1\" class=\"dataframe\">\n",
       "  <thead>\n",
       "    <tr style=\"text-align: right;\">\n",
       "      <th></th>\n",
       "      <th>id</th>\n",
       "      <th>p</th>\n",
       "      <th>theta</th>\n",
       "      <th>beta</th>\n",
       "      <th>de_Broglie</th>\n",
       "    </tr>\n",
       "  </thead>\n",
       "  <tbody>\n",
       "    <tr>\n",
       "      <th>0</th>\n",
       "      <td>211.0</td>\n",
       "      <td>2.338290</td>\n",
       "      <td>0.366832</td>\n",
       "      <td>0.991401</td>\n",
       "      <td>0.530234</td>\n",
       "    </tr>\n",
       "    <tr>\n",
       "      <th>1</th>\n",
       "      <td>211.0</td>\n",
       "      <td>1.080030</td>\n",
       "      <td>0.309427</td>\n",
       "      <td>1.013810</td>\n",
       "      <td>1.147968</td>\n",
       "    </tr>\n",
       "    <tr>\n",
       "      <th>2</th>\n",
       "      <td>211.0</td>\n",
       "      <td>1.857790</td>\n",
       "      <td>0.235047</td>\n",
       "      <td>0.996712</td>\n",
       "      <td>0.667374</td>\n",
       "    </tr>\n",
       "    <tr>\n",
       "      <th>3</th>\n",
       "      <td>211.0</td>\n",
       "      <td>1.274890</td>\n",
       "      <td>0.406854</td>\n",
       "      <td>0.772676</td>\n",
       "      <td>0.972507</td>\n",
       "    </tr>\n",
       "    <tr>\n",
       "      <th>4</th>\n",
       "      <td>211.0</td>\n",
       "      <td>0.467079</td>\n",
       "      <td>0.527780</td>\n",
       "      <td>0.985955</td>\n",
       "      <td>2.654455</td>\n",
       "    </tr>\n",
       "  </tbody>\n",
       "</table>\n",
       "</div>"
      ],
      "text/plain": [
       "      id         p     theta      beta  de_Broglie\n",
       "0  211.0  2.338290  0.366832  0.991401    0.530234\n",
       "1  211.0  1.080030  0.309427  1.013810    1.147968\n",
       "2  211.0  1.857790  0.235047  0.996712    0.667374\n",
       "3  211.0  1.274890  0.406854  0.772676    0.972507\n",
       "4  211.0  0.467079  0.527780  0.985955    2.654455"
      ]
     },
     "execution_count": 23,
     "metadata": {},
     "output_type": "execute_result"
    }
   ],
   "source": [
    "pion_data = np.array(pion_data)\n",
    "np.random.shuffle(pion_data)\n",
    "pion_array = pion_data\n",
    "piondf = pd.DataFrame(pion_array, columns = df.columns)\n",
    "piondf.head()"
   ]
  },
  {
   "cell_type": "code",
   "execution_count": 24,
   "metadata": {},
   "outputs": [
    {
     "data": {
      "text/plain": [
       "(2806833, 5)"
      ]
     },
     "execution_count": 24,
     "metadata": {},
     "output_type": "execute_result"
    }
   ],
   "source": [
    "piondf.shape"
   ]
  },
  {
   "cell_type": "code",
   "execution_count": 25,
   "metadata": {},
   "outputs": [
    {
     "data": {
      "text/html": [
       "<div>\n",
       "<style scoped>\n",
       "    .dataframe tbody tr th:only-of-type {\n",
       "        vertical-align: middle;\n",
       "    }\n",
       "\n",
       "    .dataframe tbody tr th {\n",
       "        vertical-align: top;\n",
       "    }\n",
       "\n",
       "    .dataframe thead th {\n",
       "        text-align: right;\n",
       "    }\n",
       "</style>\n",
       "<table border=\"1\" class=\"dataframe\">\n",
       "  <thead>\n",
       "    <tr style=\"text-align: right;\">\n",
       "      <th></th>\n",
       "      <th>id</th>\n",
       "      <th>p</th>\n",
       "      <th>theta</th>\n",
       "      <th>beta</th>\n",
       "      <th>de_Broglie</th>\n",
       "    </tr>\n",
       "  </thead>\n",
       "  <tbody>\n",
       "    <tr>\n",
       "      <th>0</th>\n",
       "      <td>321.0</td>\n",
       "      <td>0.724193</td>\n",
       "      <td>0.759720</td>\n",
       "      <td>0.828539</td>\n",
       "      <td>1.712030</td>\n",
       "    </tr>\n",
       "    <tr>\n",
       "      <th>1</th>\n",
       "      <td>321.0</td>\n",
       "      <td>1.975280</td>\n",
       "      <td>0.281791</td>\n",
       "      <td>0.952729</td>\n",
       "      <td>0.627678</td>\n",
       "    </tr>\n",
       "    <tr>\n",
       "      <th>2</th>\n",
       "      <td>321.0</td>\n",
       "      <td>2.005950</td>\n",
       "      <td>0.200158</td>\n",
       "      <td>0.970582</td>\n",
       "      <td>0.618081</td>\n",
       "    </tr>\n",
       "    <tr>\n",
       "      <th>3</th>\n",
       "      <td>321.0</td>\n",
       "      <td>1.832000</td>\n",
       "      <td>0.285967</td>\n",
       "      <td>0.966017</td>\n",
       "      <td>0.676769</td>\n",
       "    </tr>\n",
       "    <tr>\n",
       "      <th>4</th>\n",
       "      <td>321.0</td>\n",
       "      <td>0.604868</td>\n",
       "      <td>0.540538</td>\n",
       "      <td>0.773693</td>\n",
       "      <td>2.049770</td>\n",
       "    </tr>\n",
       "  </tbody>\n",
       "</table>\n",
       "</div>"
      ],
      "text/plain": [
       "      id         p     theta      beta  de_Broglie\n",
       "0  321.0  0.724193  0.759720  0.828539    1.712030\n",
       "1  321.0  1.975280  0.281791  0.952729    0.627678\n",
       "2  321.0  2.005950  0.200158  0.970582    0.618081\n",
       "3  321.0  1.832000  0.285967  0.966017    0.676769\n",
       "4  321.0  0.604868  0.540538  0.773693    2.049770"
      ]
     },
     "execution_count": 25,
     "metadata": {},
     "output_type": "execute_result"
    }
   ],
   "source": [
    "kaon_data = np.repeat(np.array(kaon_data), 10, axis = 0)\n",
    "np.random.shuffle(kaon_data)\n",
    "kaon_array = kaon_data\n",
    "kaondf = pd.DataFrame(kaon_array, columns = df.columns)\n",
    "kaondf.head()"
   ]
  },
  {
   "cell_type": "code",
   "execution_count": 26,
   "metadata": {},
   "outputs": [
    {
     "data": {
      "text/plain": [
       "(2324710, 5)"
      ]
     },
     "execution_count": 26,
     "metadata": {},
     "output_type": "execute_result"
    }
   ],
   "source": [
    "kaondf.shape"
   ]
  },
  {
   "cell_type": "code",
   "execution_count": 28,
   "metadata": {},
   "outputs": [
    {
     "data": {
      "text/html": [
       "<div>\n",
       "<style scoped>\n",
       "    .dataframe tbody tr th:only-of-type {\n",
       "        vertical-align: middle;\n",
       "    }\n",
       "\n",
       "    .dataframe tbody tr th {\n",
       "        vertical-align: top;\n",
       "    }\n",
       "\n",
       "    .dataframe thead th {\n",
       "        text-align: right;\n",
       "    }\n",
       "</style>\n",
       "<table border=\"1\" class=\"dataframe\">\n",
       "  <thead>\n",
       "    <tr style=\"text-align: right;\">\n",
       "      <th></th>\n",
       "      <th>id</th>\n",
       "      <th>p</th>\n",
       "      <th>theta</th>\n",
       "      <th>beta</th>\n",
       "      <th>de_Broglie</th>\n",
       "    </tr>\n",
       "  </thead>\n",
       "  <tbody>\n",
       "    <tr>\n",
       "      <th>0</th>\n",
       "      <td>2212.0</td>\n",
       "      <td>3.36690</td>\n",
       "      <td>0.414546</td>\n",
       "      <td>0.964795</td>\n",
       "      <td>0.368244</td>\n",
       "    </tr>\n",
       "    <tr>\n",
       "      <th>1</th>\n",
       "      <td>2212.0</td>\n",
       "      <td>1.81781</td>\n",
       "      <td>0.372622</td>\n",
       "      <td>0.897352</td>\n",
       "      <td>0.682051</td>\n",
       "    </tr>\n",
       "    <tr>\n",
       "      <th>2</th>\n",
       "      <td>2212.0</td>\n",
       "      <td>1.05196</td>\n",
       "      <td>0.427287</td>\n",
       "      <td>0.758942</td>\n",
       "      <td>1.178600</td>\n",
       "    </tr>\n",
       "    <tr>\n",
       "      <th>3</th>\n",
       "      <td>2212.0</td>\n",
       "      <td>1.60952</td>\n",
       "      <td>0.507328</td>\n",
       "      <td>0.856590</td>\n",
       "      <td>0.770317</td>\n",
       "    </tr>\n",
       "    <tr>\n",
       "      <th>4</th>\n",
       "      <td>2212.0</td>\n",
       "      <td>1.58679</td>\n",
       "      <td>0.534595</td>\n",
       "      <td>0.847031</td>\n",
       "      <td>0.781351</td>\n",
       "    </tr>\n",
       "  </tbody>\n",
       "</table>\n",
       "</div>"
      ],
      "text/plain": [
       "       id        p     theta      beta  de_Broglie\n",
       "0  2212.0  3.36690  0.414546  0.964795    0.368244\n",
       "1  2212.0  1.81781  0.372622  0.897352    0.682051\n",
       "2  2212.0  1.05196  0.427287  0.758942    1.178600\n",
       "3  2212.0  1.60952  0.507328  0.856590    0.770317\n",
       "4  2212.0  1.58679  0.534595  0.847031    0.781351"
      ]
     },
     "execution_count": 28,
     "metadata": {},
     "output_type": "execute_result"
    }
   ],
   "source": [
    "proton_data = np.array(proton_data)\n",
    "np.random.shuffle(proton_data)\n",
    "proton_array = proton_data\n",
    "protondf = pd.DataFrame(proton_array, columns = df.columns)\n",
    "protondf.head()"
   ]
  },
  {
   "cell_type": "code",
   "execution_count": 29,
   "metadata": {},
   "outputs": [
    {
     "data": {
      "text/plain": [
       "(1945849, 5)"
      ]
     },
     "execution_count": 29,
     "metadata": {},
     "output_type": "execute_result"
    }
   ],
   "source": [
    "protondf.shape"
   ]
  },
  {
   "cell_type": "code",
   "execution_count": 33,
   "metadata": {},
   "outputs": [
    {
     "data": {
      "text/html": [
       "<div>\n",
       "<style scoped>\n",
       "    .dataframe tbody tr th:only-of-type {\n",
       "        vertical-align: middle;\n",
       "    }\n",
       "\n",
       "    .dataframe tbody tr th {\n",
       "        vertical-align: top;\n",
       "    }\n",
       "\n",
       "    .dataframe thead th {\n",
       "        text-align: right;\n",
       "    }\n",
       "</style>\n",
       "<table border=\"1\" class=\"dataframe\">\n",
       "  <thead>\n",
       "    <tr style=\"text-align: right;\">\n",
       "      <th></th>\n",
       "      <th>id</th>\n",
       "      <th>p</th>\n",
       "      <th>theta</th>\n",
       "      <th>beta</th>\n",
       "      <th>de_Broglie</th>\n",
       "    </tr>\n",
       "  </thead>\n",
       "  <tbody>\n",
       "    <tr>\n",
       "      <th>0</th>\n",
       "      <td>2212.0</td>\n",
       "      <td>0.671855</td>\n",
       "      <td>0.585281</td>\n",
       "      <td>0.582057</td>\n",
       "      <td>1.845398</td>\n",
       "    </tr>\n",
       "    <tr>\n",
       "      <th>1</th>\n",
       "      <td>-11.0</td>\n",
       "      <td>0.218051</td>\n",
       "      <td>0.867231</td>\n",
       "      <td>0.990455</td>\n",
       "      <td>5.686009</td>\n",
       "    </tr>\n",
       "    <tr>\n",
       "      <th>2</th>\n",
       "      <td>-11.0</td>\n",
       "      <td>0.325322</td>\n",
       "      <td>0.783516</td>\n",
       "      <td>0.996646</td>\n",
       "      <td>3.811116</td>\n",
       "    </tr>\n",
       "    <tr>\n",
       "      <th>3</th>\n",
       "      <td>2212.0</td>\n",
       "      <td>2.355080</td>\n",
       "      <td>0.278071</td>\n",
       "      <td>0.925400</td>\n",
       "      <td>0.526453</td>\n",
       "    </tr>\n",
       "    <tr>\n",
       "      <th>4</th>\n",
       "      <td>-11.0</td>\n",
       "      <td>0.542763</td>\n",
       "      <td>0.576234</td>\n",
       "      <td>1.002860</td>\n",
       "      <td>2.284312</td>\n",
       "    </tr>\n",
       "  </tbody>\n",
       "</table>\n",
       "</div>"
      ],
      "text/plain": [
       "       id         p     theta      beta  de_Broglie\n",
       "0  2212.0  0.671855  0.585281  0.582057    1.845398\n",
       "1   -11.0  0.218051  0.867231  0.990455    5.686009\n",
       "2   -11.0  0.325322  0.783516  0.996646    3.811116\n",
       "3  2212.0  2.355080  0.278071  0.925400    0.526453\n",
       "4   -11.0  0.542763  0.576234  1.002860    2.284312"
      ]
     },
     "execution_count": 33,
     "metadata": {},
     "output_type": "execute_result"
    }
   ],
   "source": [
    "#Putting all of the individual dataframes into one and shuffling the rows\n",
    "\n",
    "newdf = pd.concat([positrondf, piondf, kaondf, protondf], axis = 0, ignore_index = True)\n",
    "newdf.columns = df.columns\n",
    "particle_array = np.array(newdf)\n",
    "np.random.shuffle(particle_array)\n",
    "data_array = particle_array\n",
    "particledf = pd.DataFrame(data_array, columns = df.columns)\n",
    "particledf.head()"
   ]
  },
  {
   "cell_type": "code",
   "execution_count": 35,
   "metadata": {},
   "outputs": [
    {
     "data": {
      "text/plain": [
       "(8562092, 5)"
      ]
     },
     "execution_count": 35,
     "metadata": {},
     "output_type": "execute_result"
    }
   ],
   "source": [
    "particledf.shape"
   ]
  },
  {
   "cell_type": "markdown",
   "metadata": {},
   "source": [
    "The first algorithm we will use to train the data is the DecisionTreeClassifier() from sklearn. We will make two decision trees. The first will be configured with the default setting for samples to define a leaf node (1) and samples to split a node (2). The second will be configured to have 5 samples to define a leaf node and 5 samples to split a node.\n",
    "\n",
    "The second algorithm will be the RandomForestClassifier() from sklearn. The first forest will contain ten trees, each of which will use the same tree settings as the first tree described above. The second forest will also contain ten trees with the tree settings configured to be the same as the second tree mentioned above."
   ]
  },
  {
   "cell_type": "code",
   "execution_count": 36,
   "metadata": {},
   "outputs": [],
   "source": [
    "dct1 = DecisionTreeClassifier()\n",
    "dct2 = DecisionTreeClassifier(min_samples_leaf = 5, min_samples_split = 5)\n",
    "\n",
    "rfc1 = RandomForestClassifier()\n",
    "rfc2 = RandomForestClassifier(min_samples_leaf = 5, min_samples_split =5)"
   ]
  },
  {
   "cell_type": "code",
   "execution_count": 37,
   "metadata": {},
   "outputs": [],
   "source": [
    "X = np.array(particledf.drop(\"id\", axis = 1))\n",
    "y = np.array(particledf[\"id\"])\n",
    "\n",
    "from sklearn.model_selection import train_test_split\n",
    "\n",
    "X_train, X_test, y_train, y_true = train_test_split(X, y, test_size = 0.2)"
   ]
  },
  {
   "cell_type": "code",
   "execution_count": 38,
   "metadata": {},
   "outputs": [
    {
     "data": {
      "text/plain": [
       "DecisionTreeClassifier(class_weight=None, criterion='gini', max_depth=None,\n",
       "            max_features=None, max_leaf_nodes=None,\n",
       "            min_impurity_decrease=0.0, min_impurity_split=None,\n",
       "            min_samples_leaf=1, min_samples_split=2,\n",
       "            min_weight_fraction_leaf=0.0, presort=False, random_state=None,\n",
       "            splitter='best')"
      ]
     },
     "execution_count": 38,
     "metadata": {},
     "output_type": "execute_result"
    }
   ],
   "source": [
    "dct1.fit(X_train, y_train) #fitting the training data with the first decision tree"
   ]
  },
  {
   "cell_type": "code",
   "execution_count": 40,
   "metadata": {},
   "outputs": [],
   "source": [
    "predict1 = dct1.predict(X_test) #prediction for the first tree"
   ]
  },
  {
   "cell_type": "code",
   "execution_count": 41,
   "metadata": {},
   "outputs": [
    {
     "data": {
      "text/plain": [
       "0.9827396215529026"
      ]
     },
     "execution_count": 41,
     "metadata": {},
     "output_type": "execute_result"
    }
   ],
   "source": [
    "accuracy_score(y_true, predict1) #accuracy for tree one"
   ]
  },
  {
   "cell_type": "code",
   "execution_count": 42,
   "metadata": {},
   "outputs": [
    {
     "name": "stdout",
     "output_type": "stream",
     "text": [
      "              precision    recall  f1-score   support\n",
      "\n",
      "       -11.0       0.99      1.00      1.00    296159\n",
      "       211.0       0.99      0.96      0.98    561949\n",
      "       321.0       0.96      1.00      0.98    465100\n",
      "      2212.0       0.99      0.98      0.98    389211\n",
      "\n",
      "   micro avg       0.98      0.98      0.98   1712419\n",
      "   macro avg       0.98      0.99      0.98   1712419\n",
      "weighted avg       0.98      0.98      0.98   1712419\n",
      "\n"
     ]
    }
   ],
   "source": [
    "print(classification_report(y_true, predict1))"
   ]
  },
  {
   "cell_type": "code",
   "execution_count": 43,
   "metadata": {},
   "outputs": [
    {
     "data": {
      "text/plain": [
       "DecisionTreeClassifier(class_weight=None, criterion='gini', max_depth=None,\n",
       "            max_features=None, max_leaf_nodes=None,\n",
       "            min_impurity_decrease=0.0, min_impurity_split=None,\n",
       "            min_samples_leaf=5, min_samples_split=5,\n",
       "            min_weight_fraction_leaf=0.0, presort=False, random_state=None,\n",
       "            splitter='best')"
      ]
     },
     "execution_count": 43,
     "metadata": {},
     "output_type": "execute_result"
    }
   ],
   "source": [
    "dct2.fit(X_train, y_train) #fitting for the second tree"
   ]
  },
  {
   "cell_type": "code",
   "execution_count": 44,
   "metadata": {},
   "outputs": [],
   "source": [
    "predict2 = dct2.predict(X_test) #prediction for the second tree"
   ]
  },
  {
   "cell_type": "code",
   "execution_count": 45,
   "metadata": {},
   "outputs": [
    {
     "data": {
      "text/plain": [
       "0.9777355892453892"
      ]
     },
     "execution_count": 45,
     "metadata": {},
     "output_type": "execute_result"
    }
   ],
   "source": [
    "accuracy_score(y_true, predict2) #accuracy for the second tree"
   ]
  },
  {
   "cell_type": "code",
   "execution_count": 46,
   "metadata": {},
   "outputs": [
    {
     "name": "stdout",
     "output_type": "stream",
     "text": [
      "              precision    recall  f1-score   support\n",
      "\n",
      "       -11.0       0.99      1.00      1.00    296159\n",
      "       211.0       0.99      0.95      0.97    561949\n",
      "       321.0       0.94      1.00      0.97    465100\n",
      "      2212.0       0.99      0.98      0.98    389211\n",
      "\n",
      "   micro avg       0.98      0.98      0.98   1712419\n",
      "   macro avg       0.98      0.98      0.98   1712419\n",
      "weighted avg       0.98      0.98      0.98   1712419\n",
      "\n"
     ]
    }
   ],
   "source": [
    "print(classification_report(y_true, predict2))"
   ]
  },
  {
   "cell_type": "code",
   "execution_count": 47,
   "metadata": {},
   "outputs": [
    {
     "name": "stderr",
     "output_type": "stream",
     "text": [
      "/Library/Frameworks/Python.framework/Versions/3.6/lib/python3.6/site-packages/sklearn/ensemble/forest.py:248: FutureWarning: The default value of n_estimators will change from 10 in version 0.20 to 100 in 0.22.\n",
      "  \"10 in version 0.20 to 100 in 0.22.\", FutureWarning)\n"
     ]
    },
    {
     "data": {
      "text/plain": [
       "RandomForestClassifier(bootstrap=True, class_weight=None, criterion='gini',\n",
       "            max_depth=None, max_features='auto', max_leaf_nodes=None,\n",
       "            min_impurity_decrease=0.0, min_impurity_split=None,\n",
       "            min_samples_leaf=1, min_samples_split=2,\n",
       "            min_weight_fraction_leaf=0.0, n_estimators=10, n_jobs=None,\n",
       "            oob_score=False, random_state=None, verbose=0,\n",
       "            warm_start=False)"
      ]
     },
     "execution_count": 47,
     "metadata": {},
     "output_type": "execute_result"
    }
   ],
   "source": [
    "rfc1.fit(X_train, y_train) #fitting for the first forest"
   ]
  },
  {
   "cell_type": "code",
   "execution_count": 48,
   "metadata": {},
   "outputs": [],
   "source": [
    "predict3 = rfc1.predict(X_test) #prediction for the first forest"
   ]
  },
  {
   "cell_type": "code",
   "execution_count": 49,
   "metadata": {},
   "outputs": [
    {
     "data": {
      "text/plain": [
       "0.9860232805172099"
      ]
     },
     "execution_count": 49,
     "metadata": {},
     "output_type": "execute_result"
    }
   ],
   "source": [
    "accuracy_score(y_true, predict3) #accuracy for the first forest"
   ]
  },
  {
   "cell_type": "code",
   "execution_count": 50,
   "metadata": {},
   "outputs": [
    {
     "name": "stdout",
     "output_type": "stream",
     "text": [
      "              precision    recall  f1-score   support\n",
      "\n",
      "       -11.0       1.00      1.00      1.00    296159\n",
      "       211.0       1.00      0.97      0.98    561949\n",
      "       321.0       0.97      1.00      0.98    465100\n",
      "      2212.0       0.99      0.98      0.99    389211\n",
      "\n",
      "   micro avg       0.99      0.99      0.99   1712419\n",
      "   macro avg       0.99      0.99      0.99   1712419\n",
      "weighted avg       0.99      0.99      0.99   1712419\n",
      "\n"
     ]
    }
   ],
   "source": [
    "print(classification_report(y_true, predict3))"
   ]
  },
  {
   "cell_type": "code",
   "execution_count": 51,
   "metadata": {},
   "outputs": [
    {
     "name": "stderr",
     "output_type": "stream",
     "text": [
      "/Library/Frameworks/Python.framework/Versions/3.6/lib/python3.6/site-packages/sklearn/ensemble/forest.py:248: FutureWarning: The default value of n_estimators will change from 10 in version 0.20 to 100 in 0.22.\n",
      "  \"10 in version 0.20 to 100 in 0.22.\", FutureWarning)\n"
     ]
    },
    {
     "data": {
      "text/plain": [
       "RandomForestClassifier(bootstrap=True, class_weight=None, criterion='gini',\n",
       "            max_depth=None, max_features='auto', max_leaf_nodes=None,\n",
       "            min_impurity_decrease=0.0, min_impurity_split=None,\n",
       "            min_samples_leaf=5, min_samples_split=5,\n",
       "            min_weight_fraction_leaf=0.0, n_estimators=10, n_jobs=None,\n",
       "            oob_score=False, random_state=None, verbose=0,\n",
       "            warm_start=False)"
      ]
     },
     "execution_count": 51,
     "metadata": {},
     "output_type": "execute_result"
    }
   ],
   "source": [
    "rfc2.fit(X_train, y_train) #fitting the second forest"
   ]
  },
  {
   "cell_type": "code",
   "execution_count": 52,
   "metadata": {},
   "outputs": [],
   "source": [
    "predict4 = rfc2.predict(X_test) #predictions for the second forest"
   ]
  },
  {
   "cell_type": "code",
   "execution_count": 53,
   "metadata": {},
   "outputs": [
    {
     "data": {
      "text/plain": [
       "0.9802489927990755"
      ]
     },
     "execution_count": 53,
     "metadata": {},
     "output_type": "execute_result"
    }
   ],
   "source": [
    "accuracy_score(y_true, predict4) #accuracy for the second forest"
   ]
  },
  {
   "cell_type": "code",
   "execution_count": 54,
   "metadata": {},
   "outputs": [
    {
     "name": "stdout",
     "output_type": "stream",
     "text": [
      "              precision    recall  f1-score   support\n",
      "\n",
      "       -11.0       1.00      1.00      1.00    296159\n",
      "       211.0       1.00      0.95      0.97    561949\n",
      "       321.0       0.94      1.00      0.97    465100\n",
      "      2212.0       0.99      0.98      0.99    389211\n",
      "\n",
      "   micro avg       0.98      0.98      0.98   1712419\n",
      "   macro avg       0.98      0.98      0.98   1712419\n",
      "weighted avg       0.98      0.98      0.98   1712419\n",
      "\n"
     ]
    }
   ],
   "source": [
    "print(classification_report(y_true, predict4))"
   ]
  },
  {
   "cell_type": "markdown",
   "metadata": {},
   "source": [
    "It looks like the first forest (that contained 10 trees with default configurations) had the highest accuracy. To reiterate:"
   ]
  },
  {
   "cell_type": "code",
   "execution_count": 55,
   "metadata": {},
   "outputs": [
    {
     "name": "stdout",
     "output_type": "stream",
     "text": [
      "Accuracy score for forest one:  0.9860232805172099\n"
     ]
    }
   ],
   "source": [
    "print(\"Accuracy score for forest one: \",accuracy_score(y_true, predict3))"
   ]
  },
  {
   "cell_type": "code",
   "execution_count": 57,
   "metadata": {},
   "outputs": [
    {
     "name": "stdout",
     "output_type": "stream",
     "text": [
      "Classification report for forest one: \n",
      "              precision    recall  f1-score   support\n",
      "\n",
      "       -11.0       1.00      1.00      1.00    296159\n",
      "       211.0       1.00      0.97      0.98    561949\n",
      "       321.0       0.97      1.00      0.98    465100\n",
      "      2212.0       0.99      0.98      0.99    389211\n",
      "\n",
      "   micro avg       0.99      0.99      0.99   1712419\n",
      "   macro avg       0.99      0.99      0.99   1712419\n",
      "weighted avg       0.99      0.99      0.99   1712419\n",
      "\n"
     ]
    }
   ],
   "source": [
    "print(\"Classification report for forest one: \")\n",
    "print(classification_report(y_true, predict3))"
   ]
  },
  {
   "cell_type": "code",
   "execution_count": null,
   "metadata": {},
   "outputs": [],
   "source": []
  }
 ],
 "metadata": {
  "kernelspec": {
   "display_name": "Python 3",
   "language": "python",
   "name": "python3"
  },
  "language_info": {
   "codemirror_mode": {
    "name": "ipython",
    "version": 3
   },
   "file_extension": ".py",
   "mimetype": "text/x-python",
   "name": "python",
   "nbconvert_exporter": "python",
   "pygments_lexer": "ipython3",
   "version": "3.6.2"
  }
 },
 "nbformat": 4,
 "nbformat_minor": 2
}
